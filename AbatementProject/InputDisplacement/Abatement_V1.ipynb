{
 "cells": [
  {
   "cell_type": "code",
   "execution_count": 1,
   "metadata": {},
   "outputs": [],
   "source": [
    "clean_up=True # removes gams-related files in work-folder if true\n",
    "%run StdPackages.ipynb # load standard packages"
   ]
  },
  {
   "cell_type": "markdown",
   "metadata": {},
   "source": [
    "# **Abatement Model, version 1:**\n",
    "### Static, partial equilibrium version. "
   ]
  },
  {
   "cell_type": "code",
   "execution_count": 2,
   "metadata": {},
   "outputs": [],
   "source": [
    "data_folder = os.getcwd()+'\\\\Data\\\\V1'"
   ]
  },
  {
   "cell_type": "markdown",
   "metadata": {},
   "source": [
    "The class builds on classes [*nesting_tree*](../../py_main/nesting_tree.py) and [*ModelFrame_PE*](../../py_main/ModelFrame_PE.py) (see *GamsPythonModels/Examples* for more). \n",
    "\n",
    "This version specifies the sector with four sub-sectors: Final goods (FG), Energy-services (ES), Energy-service components (ESC), and technology-firms (T). Note that capital goods producers are not included here as this version is static. Furthermore, we add a fifth tree to represent base-components for each energy-service; these are not produced using a combination of technology goods, but directly utilizes the same input-structure as technology firms (see paper for more on base-components).\n",
    "\n",
    "The information are collected in nesting trees from data, and used to initialize a partial equilibrium model."
   ]
  },
  {
   "cell_type": "markdown",
   "metadata": {},
   "source": [
    "## **1: Nesting trees and subsectors**"
   ]
  },
  {
   "cell_type": "markdown",
   "metadata": {},
   "source": [
    "*Collect information in nesting tree:*"
   ]
  },
  {
   "cell_type": "code",
   "execution_count": 3,
   "metadata": {},
   "outputs": [],
   "source": [
    "nt = nesting_tree.nesting_tree(name='abate')"
   ]
  },
  {
   "cell_type": "markdown",
   "metadata": {},
   "source": [
    "#### **CES-sectors:**"
   ]
  },
  {
   "cell_type": "markdown",
   "metadata": {},
   "source": [
    "Read in settings from data, or specify directly from Python. Here, from data:"
   ]
  },
  {
   "cell_type": "markdown",
   "metadata": {},
   "source": [
    "*CES_ALL conatins all CES-types in the nesting tree. This includes the final goods sector, the firms producing baseline components, and the input-side of the technology firms:*"
   ]
  },
  {
   "cell_type": "code",
   "execution_count": 4,
   "metadata": {},
   "outputs": [],
   "source": [
    "nt.add_tree(data_folder+'\\\\CES_ALL.xlsx',name='CES_types',**{'version':'Q2P'})"
   ]
  },
  {
   "cell_type": "code",
   "execution_count": 5,
   "metadata": {},
   "outputs": [],
   "source": [
    "read_type = {'1dvars': {'sheets': ['sigma','qS'], # read in 1d variables.\n",
    "                        'names' : {'sigma': 'sigma', 'qS': 'qS'}}, # (key,value)-pairs renames variables in key as value.\n",
    "            'vars_panel': {'sheets': {'mu': 2},  # read in nd variables from panel-data format, with n specified as the value in the inner dictionary. Thus mu is defined over 2 dimensions.\n",
    "                           'names' : {'mu': 'mu'}}, \n",
    "            'maps_panel': {'sheets': ['q2p'], # read in mappings from panel-data format.\n",
    "                           'names' : {'q2p': 'q2p'}}}\n",
    "nt.trees['CES_types'].database.read_from_excel(data_folder+'\\\\CES_ALL.xlsx', read_type)"
   ]
  },
  {
   "cell_type": "markdown",
   "metadata": {},
   "source": [
    "*NB: The 'names' dictionaries can be left empty. Then default names are used when reading in data.*"
   ]
  },
  {
   "cell_type": "markdown",
   "metadata": {},
   "source": [
    "#### **Energy-service sector:**"
   ]
  },
  {
   "cell_type": "markdown",
   "metadata": {},
   "source": [
    "*Read in from data, define which type of function to use in this part of the tree:*"
   ]
  },
  {
   "cell_type": "code",
   "execution_count": 6,
   "metadata": {},
   "outputs": [],
   "source": [
    "nt.add_tree(data_folder+'\\\\ES.xlsx',name='ES',**{'type_f': 'norm_CES'})\n",
    "read_type = {'1dvars': {'sheets': ['sigma','qD'],'names': {}},\n",
    "             'vars_panel': {'sheets': {'mu': 2}, 'names': {}}}\n",
    "nt.trees['ES'].database.read_from_excel(data_folder+'\\\\ES.xlsx', read_type)"
   ]
  },
  {
   "cell_type": "markdown",
   "metadata": {},
   "source": [
    "#### **Energy-service components:**"
   ]
  },
  {
   "cell_type": "code",
   "execution_count": 7,
   "metadata": {},
   "outputs": [],
   "source": [
    "nt.add_tree(data_folder+'\\\\ESC.xlsx',name='ESC',**{'type_f': 'MNL', 'version': 'MNL_w_mu'})\n",
    "read_type = {'1dvars': {'sheets': ['sigma','qD'],'names': {}},\n",
    "             'vars_panel': {'sheets': {'mu': 2}, 'names': {}}}\n",
    "nt.trees['ESC'].database.read_from_excel(data_folder+'\\\\ESC.xlsx', read_type)"
   ]
  },
  {
   "cell_type": "markdown",
   "metadata": {},
   "source": [
    "#### **Technology:**"
   ]
  },
  {
   "cell_type": "markdown",
   "metadata": {},
   "source": [
    "*Output part:*"
   ]
  },
  {
   "cell_type": "code",
   "execution_count": 8,
   "metadata": {},
   "outputs": [],
   "source": [
    "nt.add_tree(data_folder+'\\\\T_out.xlsx',name='T_out',**{'type_io': 'output','type_f': 'CET'})\n",
    "read_type = {'1dvars': {'sheets': ['eta','qD'], 'names': {}},\n",
    "             'vars_panel': {'sheets': {'mu': 2}, 'names': {}}}\n",
    "nt.trees['T_out'].database.read_from_excel(data_folder+'\\\\T_out.xlsx',read_type)"
   ]
  },
  {
   "cell_type": "markdown",
   "metadata": {},
   "source": [
    "## **2: Compile aggregate sector**"
   ]
  },
  {
   "cell_type": "markdown",
   "metadata": {},
   "source": [
    "*Aggregate sector, with Q2P mappings:*"
   ]
  },
  {
   "cell_type": "code",
   "execution_count": 9,
   "metadata": {},
   "outputs": [],
   "source": [
    "Q2P = {tree: nt.trees[tree].database['q2p'] for tree in ['CES_types']}\n",
    "nt.run_all(Q2Ps = Q2P)"
   ]
  },
  {
   "cell_type": "markdown",
   "metadata": {},
   "source": [
    "## **3: Create production module, and run baseline**"
   ]
  },
  {
   "cell_type": "markdown",
   "metadata": {},
   "source": [
    "*Partial equilibrium model, production module from nesting tree:*"
   ]
  },
  {
   "cell_type": "code",
   "execution_count": 10,
   "metadata": {},
   "outputs": [],
   "source": [
    "pm = PE.GPM_STA_PE.production(nt)"
   ]
  },
  {
   "cell_type": "markdown",
   "metadata": {},
   "source": [
    "*This writes gams code, export it to a folder, create a model instance and runs it (without calibration)*"
   ]
  },
  {
   "cell_type": "code",
   "execution_count": 11,
   "metadata": {},
   "outputs": [],
   "source": [
    "# pm.df_write(repo=os.getcwd()+'\\\\V1',export_settings=True)\n",
    "# pm.create_model_instance(name='baseline',repo=work_folder)\n",
    "# pm.df_run(name='baseline')"
   ]
  },
  {
   "cell_type": "markdown",
   "metadata": {},
   "source": [
    "*This instead compiles the blocks/groups needed for later, without running/writing gams code yet.*"
   ]
  },
  {
   "cell_type": "code",
   "execution_count": 12,
   "metadata": {},
   "outputs": [],
   "source": [
    "pm.df_init(), pm.add_groups(), pm.add_blocks();"
   ]
  },
  {
   "cell_type": "markdown",
   "metadata": {},
   "source": [
    "## **4: Calibration**"
   ]
  },
  {
   "cell_type": "markdown",
   "metadata": {},
   "source": [
    "To add the groups, equations etc. for calibrating the model, we need to specify (manually, for now at least):\n",
    "* *map\\_k2t*: Technology-capital to (composite) technology good mapping ($K\\_Ti$ to $Ti$ mapping). This is used to identify the relevant $\\mu(n,nn)$ components to use to calibrate the unit-cost of investing in capital for each technology $(\\bar{c})$.\n",
    "* *map\\_u2c*: Technology-good to component mapping ($Uij$ to $Cn$ mapping). This is used to identify the current level of application for the technology. \n",
    "* *map\\_c2e*: Component to energy-service mapping ($Cn$ to $Ee$ mapping). This is used to identify the potential level of application for a technology.\n",
    "* *map\\_q2p*: If the model version is 'q2p', the calibration module further needs the name of this mapping. "
   ]
  },
  {
   "cell_type": "markdown",
   "metadata": {},
   "source": [
    "Furthermore, we add data on calibration targets from an xlsx file:"
   ]
  },
  {
   "cell_type": "code",
   "execution_count": 13,
   "metadata": {},
   "outputs": [],
   "source": [
    "map_k2t,map_u2c,map_c2e,map_q2p = 'map_CES_types','map_ESC','map_ES','q2p'\n",
    "Calib.tech_calib(pm,data_folder+'\\\\Calib.xlsx',map_k2t,map_u2c,map_c2e,map_q2p)"
   ]
  },
  {
   "cell_type": "markdown",
   "metadata": {},
   "source": [
    "*Write files and export them to the folder V1*:"
   ]
  },
  {
   "cell_type": "code",
   "execution_count": 14,
   "metadata": {},
   "outputs": [],
   "source": [
    "Calib.tech_calib_write(pm,repo=os.getcwd()+'\\\\V1',export_settings=True)"
   ]
  },
  {
   "cell_type": "markdown",
   "metadata": {},
   "source": [
    "*Create model instance and run:*"
   ]
  },
  {
   "cell_type": "code",
   "execution_count": 15,
   "metadata": {},
   "outputs": [],
   "source": [
    "pm.create_model_instance(name='baseline',repo=work_folder)\n",
    "pm.df_run(name='baseline')"
   ]
  }
 ],
 "metadata": {
  "kernelspec": {
   "display_name": "Python 3",
   "language": "python",
   "name": "python3"
  },
  "language_info": {
   "codemirror_mode": {
    "name": "ipython",
    "version": 3
   },
   "file_extension": ".py",
   "mimetype": "text/x-python",
   "name": "python",
   "nbconvert_exporter": "python",
   "pygments_lexer": "ipython3",
   "version": "3.7.4"
  }
 },
 "nbformat": 4,
 "nbformat_minor": 4
}
