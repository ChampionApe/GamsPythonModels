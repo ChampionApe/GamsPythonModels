{
 "cells": [
  {
   "cell_type": "code",
   "execution_count": 11,
   "metadata": {},
   "outputs": [],
   "source": [
    "# Site-packages:\n",
    "import os\n",
    "import sys\n",
    "import numpy as np\n",
    "import pandas as pd\n",
    "curr = os.getcwd()\n",
    "py = {}\n",
    "py['local'] = os.getcwd()+'\\\\py_local'\n",
    "py['project'] = os.path.dirname(os.getcwd())+'\\\\py_project'\n",
    "py['main'] = os.path.dirname(os.path.dirname(os.getcwd()))+'\\\\py_main'\n",
    "# Main GPM packages:\n",
    "os.chdir(py['main'])\n",
    "import nesting_trees as nt\n",
    "import DataBase\n",
    "import COE\n",
    "import regex_gms\n",
    "import DB2Gams\n",
    "# Project packages:\n",
    "os.chdir(py['project'])\n",
    "import abatement_functions as af\n",
    "# Local packages:\n",
    "os.chdir(py['local'])\n",
    "# import LOCALPACKAGE \n",
    "os.chdir(curr)"
   ]
  }
 ],
 "metadata": {
  "kernelspec": {
   "display_name": "Python 3",
   "language": "python",
   "name": "python3"
  },
  "language_info": {
   "codemirror_mode": {
    "name": "ipython",
    "version": 3
   },
   "file_extension": ".py",
   "mimetype": "text/x-python",
   "name": "python",
   "nbconvert_exporter": "python",
   "pygments_lexer": "ipython3",
   "version": "3.7.4"
  }
 },
 "nbformat": 4,
 "nbformat_minor": 4
}
