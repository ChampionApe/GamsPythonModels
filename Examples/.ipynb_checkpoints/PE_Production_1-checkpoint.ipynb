{
 "cells": [
  {
   "cell_type": "markdown",
   "metadata": {},
   "source": [
    "# **Static, partial equilibrium model**\n",
    "### **Production module, example 1:**\n",
    "\n",
    "*Example 1 sets up a nesting tree consisting of two trees (one output-type, one input-type), initializes the production module in the partial equilibrium framework, and run (with some default initial values/parameter values.*"
   ]
  },
  {
   "cell_type": "markdown",
   "metadata": {},
   "source": [
    "Import standard collection of packages:"
   ]
  },
  {
   "cell_type": "code",
   "execution_count": 1,
   "metadata": {},
   "outputs": [
    {
     "name": "stdout",
     "output_type": "stream",
     "text": [
      "The file_gams_py_gdb1.gdx is still active and was not deleted.\n"
     ]
    }
   ],
   "source": [
    "clean_up=True # removes gams-related files in work-folder if true\n",
    "%run StdPackages.ipynb"
   ]
  },
  {
   "cell_type": "markdown",
   "metadata": {},
   "source": [
    "## **Nesting structure:**"
   ]
  },
  {
   "cell_type": "markdown",
   "metadata": {},
   "source": [
    "*Nesting trees:*"
   ]
  },
  {
   "cell_type": "code",
   "execution_count": 2,
   "metadata": {},
   "outputs": [],
   "source": [
    "tree_in = {'Y': ['KY1','LY2'],\n",
    "           'KY1': ['K','Y1'],\n",
    "           'LY2': ['L','Y2']}\n",
    "tree_out = {'Y': ['Y1_out','Y2_out']}"
   ]
  },
  {
   "cell_type": "markdown",
   "metadata": {},
   "source": [
    "*Initialize empty class with some name:*"
   ]
  },
  {
   "cell_type": "code",
   "execution_count": 3,
   "metadata": {},
   "outputs": [],
   "source": [
    "nt = nesting_tree.nesting_tree(name='test')"
   ]
  },
  {
   "cell_type": "markdown",
   "metadata": {},
   "source": [
    "*Add trees with various settings (NB: Using'normalized' versions throughout the entire tree can make the system of equations quite difficult to solve):*"
   ]
  },
  {
   "cell_type": "markdown",
   "metadata": {},
   "source": [
    "*Input types:*"
   ]
  },
  {
   "cell_type": "code",
   "execution_count": 4,
   "metadata": {},
   "outputs": [],
   "source": [
    "nt.add_tree(tree_in,'s1_in',**{'tree_name': 's1_in','version': 'std'}) # regular CES version.\n",
    "# nt.add_tree(tree_in,'in',**{'tree_name': 'test_in','type_f': 'norm_CES'}) # normalized CES-version.\n",
    "# nt.add_tree(tree_in,'in',**{'tree_name': 'test_in','type_f': 'MNL'}) # MNL input-like system.\n",
    "# nt.add_tree(tree_in,'in',**{'tree_name': 'test_in','type_f': 'MNL', 'version': 'MNL_w_mu'}) # MNL input-like system with mu-parameters in the share functions."
   ]
  },
  {
   "cell_type": "markdown",
   "metadata": {},
   "source": [
    "*Output types:*"
   ]
  },
  {
   "cell_type": "code",
   "execution_count": 5,
   "metadata": {},
   "outputs": [],
   "source": [
    "nt.add_tree(tree_out,'s1_out',**{'tree_name': 's1_out','type_io': 'output','version': 'std'}) # regular CET version.\n",
    "# nt.add_tree(tree_out,'out',**{'tree_name': 'test_out','type_io': 'output', 'type_f': 'norm_CET'}) # normalized CET version.\n",
    "# nt.add_tree(tree_out,'out',**{'tree_name': 'test_out','type_io': 'output','type_f': 'MNL_out'})"
   ]
  },
  {
   "cell_type": "markdown",
   "metadata": {},
   "source": [
    "*Retrieve sets/subsets/mappings from trees:*"
   ]
  },
  {
   "cell_type": "code",
   "execution_count": 6,
   "metadata": {},
   "outputs": [],
   "source": [
    "nt.run_all()"
   ]
  },
  {
   "cell_type": "markdown",
   "metadata": {},
   "source": [
    "## **Create production module:**"
   ]
  },
  {
   "cell_type": "markdown",
   "metadata": {},
   "source": [
    "*Partial equilibrium model, production module from nesting tree:*"
   ]
  },
  {
   "cell_type": "code",
   "execution_count": 7,
   "metadata": {},
   "outputs": [],
   "source": [
    "pm = PE.GPM_STA_PE.production(nt,**{'work_folder': work_folder})"
   ]
  },
  {
   "cell_type": "markdown",
   "metadata": {},
   "source": [
    "*Write gams files to a repo called PE_P/Example_1, and export the 'settings' as well:*"
   ]
  },
  {
   "cell_type": "code",
   "execution_count": 8,
   "metadata": {},
   "outputs": [],
   "source": [
    "pm.df_write(repo=os.getcwd()+'\\\\PE_P\\\\Example_1',export_settings=True)"
   ]
  },
  {
   "cell_type": "markdown",
   "metadata": {},
   "source": [
    "*Create model instance and run:*"
   ]
  },
  {
   "cell_type": "code",
   "execution_count": 9,
   "metadata": {},
   "outputs": [],
   "source": [
    "pm.create_model_instance()\n",
    "pm.df_run()"
   ]
  }
 ],
 "metadata": {
  "kernelspec": {
   "display_name": "Python 3",
   "language": "python",
   "name": "python3"
  },
  "language_info": {
   "codemirror_mode": {
    "name": "ipython",
    "version": 3
   },
   "file_extension": ".py",
   "mimetype": "text/x-python",
   "name": "python",
   "nbconvert_exporter": "python",
   "pygments_lexer": "ipython3",
   "version": "3.7.9"
  }
 },
 "nbformat": 4,
 "nbformat_minor": 4
}
