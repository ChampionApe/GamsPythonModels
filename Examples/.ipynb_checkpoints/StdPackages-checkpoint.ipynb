{
 "cells": [
  {
   "cell_type": "code",
   "execution_count": 1,
   "metadata": {},
   "outputs": [
    {
     "ename": "SyntaxError",
     "evalue": "keyword can't be an expression (<fstring>, line 66)",
     "output_type": "error",
     "traceback": [
      "Traceback \u001b[1;36m(most recent call last)\u001b[0m:\n",
      "  File \u001b[0;32m\"C:\\Users\\sxj477\\AppData\\Local\\Continuum\\anaconda3\\lib\\site-packages\\IPython\\core\\interactiveshell.py\"\u001b[0m, line \u001b[0;32m3331\u001b[0m, in \u001b[0;35mrun_code\u001b[0m\n    exec(code_obj, self.user_global_ns, self.user_ns)\n",
      "\u001b[1;36m  File \u001b[1;32m\"<ipython-input-1-22064a131b7a>\"\u001b[1;36m, line \u001b[1;32m22\u001b[1;36m, in \u001b[1;35m<module>\u001b[1;36m\u001b[0m\n\u001b[1;33m    import ModelFrame_PE as PE\u001b[0m\n",
      "\u001b[1;36m  File \u001b[1;32m\"<fstring>\"\u001b[1;36m, line \u001b[1;32m66\u001b[0m\n\u001b[1;31mSyntaxError\u001b[0m\u001b[1;31m:\u001b[0m keyword can't be an expression\n"
     ]
    }
   ],
   "source": [
    "# Site-packages:\n",
    "import os\n",
    "import sys\n",
    "import numpy as np\n",
    "import pandas as pd\n",
    "curr = os.getcwd()\n",
    "main = os.getcwd().split('GamsPythonModels')[0]+'GamsPythonModels'\n",
    "project = main+'\\\\'+os.getcwd().split('GamsPythonModels')[1].split('\\\\')[1]\n",
    "py = {}\n",
    "py['main'] = main+'\\\\py_main'\n",
    "# py['project'] = project+'\\\\py_project'\n",
    "# py['local'] = curr+'\\\\py_local'\n",
    "work_folder = main+'\\\\work_folder'\n",
    "# Main GPM packages:\n",
    "os.chdir(py['main'])\n",
    "import nesting_tree\n",
    "import DataBase\n",
    "import COE\n",
    "import COE_settings\n",
    "import regex_gms\n",
    "import DB2Gams\n",
    "import ModelFrame_PE as PE\n",
    "import ReadData\n",
    "# Project packages:\n",
    "# os.chdir(py['project'])\n",
    "# Local packages:\n",
    "# os.chdir(py['local'])\n",
    "# import LOCALPACKAGE \n",
    "os.chdir(curr)"
   ]
  },
  {
   "cell_type": "markdown",
   "metadata": {},
   "source": [
    "Clean-up?"
   ]
  },
  {
   "cell_type": "code",
   "execution_count": 2,
   "metadata": {},
   "outputs": [
    {
     "name": "stdout",
     "output_type": "stream",
     "text": [
      "No clean-up of work-folder\n"
     ]
    }
   ],
   "source": [
    "try:\n",
    "    if clean_up is True:\n",
    "        temp_gamsdb = [filename for filename in os.listdir(work_folder) if filename.endswith((\".gdx\",\".gms\",\".lst\",\".g00\",\".pf\",\".opt\",\".gmy\"))]\n",
    "        for temp in temp_gamsdb:\n",
    "            try:\n",
    "                os.remove(work_folder+'\\\\'+temp)\n",
    "            except OSError as err:\n",
    "                print('The file' + temp + ' is still active and was not deleted.')\n",
    "except NameError:\n",
    "    print('No clean-up of work-folder')"
   ]
  }
 ],
 "metadata": {
  "kernelspec": {
   "display_name": "Python 3",
   "language": "python",
   "name": "python3"
  },
  "language_info": {
   "codemirror_mode": {
    "name": "ipython",
    "version": 3
   },
   "file_extension": ".py",
   "mimetype": "text/x-python",
   "name": "python",
   "nbconvert_exporter": "python",
   "pygments_lexer": "ipython3",
   "version": "3.7.4"
  }
 },
 "nbformat": 4,
 "nbformat_minor": 4
}
