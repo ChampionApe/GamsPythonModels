{
 "cells": [
  {
   "cell_type": "code",
   "execution_count": 1,
   "metadata": {},
   "outputs": [],
   "source": [
    "# Site-packages:\n",
    "import os\n",
    "import sys\n",
    "import numpy as np\n",
    "import pandas as pd\n",
    "curr = os.getcwd()\n",
    "main = os.getcwd().split('GamsPythonModels')[0]+'GamsPythonModels'\n",
    "project = main+'\\\\'+os.getcwd().split('GamsPythonModels')[1].split('\\\\')[1]\n",
    "py = {}\n",
    "py['main'] = main+'\\\\py_main'\n",
    "# py['project'] = project+'\\\\py_project'\n",
    "# py['local'] = curr+'\\\\py_local'\n",
    "work_folder = main+'\\\\work_folder'\n",
    "# Main GPM packages:\n",
    "os.chdir(py['main'])\n",
    "import nesting_tree\n",
    "import DataBase\n",
    "import COE\n",
    "import COE_settings\n",
    "import regex_gms\n",
    "import DB2Gams\n",
    "import ModelFrame_PE as PE\n",
    "import ReadData\n",
    "# Project packages:\n",
    "# os.chdir(py['project'])\n",
    "# Local packages:\n",
    "# os.chdir(py['local'])\n",
    "# import LOCALPACKAGE \n",
    "os.chdir(curr)"
   ]
  },
  {
   "cell_type": "markdown",
   "metadata": {},
   "source": [
    "Clean-up?"
   ]
  },
  {
   "cell_type": "code",
   "execution_count": 2,
   "metadata": {},
   "outputs": [
    {
     "name": "stdout",
     "output_type": "stream",
     "text": [
      "No clean-up of work-folder\n"
     ]
    }
   ],
   "source": [
    "try:\n",
    "    if clean_up is True:\n",
    "        temp_gamsdb = [filename for filename in os.listdir(work_folder) if filename.endswith((\".gdx\",\".gms\",\".lst\",\".g00\",\".pf\",\".opt\",\".gmy\"))]\n",
    "        for temp in temp_gamsdb:\n",
    "            try:\n",
    "                os.remove(work_folder+'\\\\'+temp)\n",
    "            except OSError as err:\n",
    "                print('The file' + temp + ' is still active and was not deleted.')\n",
    "except NameError:\n",
    "    print('No clean-up of work-folder')"
   ]
  }
 ],
 "metadata": {
  "kernelspec": {
   "display_name": "Python 3",
   "language": "python",
   "name": "python3"
  },
  "language_info": {
   "codemirror_mode": {
    "name": "ipython",
    "version": 3
   },
   "file_extension": ".py",
   "mimetype": "text/x-python",
   "name": "python",
   "nbconvert_exporter": "python",
   "pygments_lexer": "ipython3",
   "version": "3.7.4"
  }
 },
 "nbformat": 4,
 "nbformat_minor": 4
}
