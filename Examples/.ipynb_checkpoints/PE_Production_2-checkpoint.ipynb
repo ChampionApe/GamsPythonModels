{
 "cells": [
  {
   "cell_type": "markdown",
   "metadata": {},
   "source": [
    "# **Static, partial equilibrium model**\n",
    "### **Production module, example 2:**\n",
    "\n",
    "*In some cases, it can be usefull to allow for a sector to use the same type of inputs more than once in the nesting tree (see the AbatementProject for an example). In such a case, the prices and quantities of the sector are defined over different, but overlapping sets. This example shows how to adjust the nesting trees, and subsequently the production module to account for this.*\n",
    "\n",
    "*In this example, a sector uses $E_i$-types of input with $i\\in\\lbrace 1,2\\rbrace$, and $B_j$-types with $j\\in \\lbrace 1,2\\rbrace$. However, $B_j$ are utilized under both $E_i$ branches. Thus there are components of the form 'Ei_Bj' that mesaures the use of $B_j$ under branch $E_i$.*"
   ]
  },
  {
   "cell_type": "markdown",
   "metadata": {},
   "source": [
    "Import standard collection of packages:"
   ]
  },
  {
   "cell_type": "code",
   "execution_count": 1,
   "metadata": {},
   "outputs": [],
   "source": [
    "clean_up=True # removes gams-related files in work-folder if true\n",
    "%run StdPackages.ipynb"
   ]
  },
  {
   "cell_type": "markdown",
   "metadata": {},
   "source": [
    "## **Nesting structure:**"
   ]
  },
  {
   "cell_type": "markdown",
   "metadata": {},
   "source": [
    "*Nesting trees:*"
   ]
  },
  {
   "cell_type": "code",
   "execution_count": 2,
   "metadata": {},
   "outputs": [],
   "source": [
    "tree_in = {'Y': ['E1', 'E2'],\n",
    "           'E1': ['E1_B1','E1_B2','K'],\n",
    "           'E2': ['E2_B1','E2_B2']}\n",
    "tree_out = {'Y': ['Y1','Y2']}"
   ]
  },
  {
   "cell_type": "markdown",
   "metadata": {},
   "source": [
    "*Initialize empty class with some name:*"
   ]
  },
  {
   "cell_type": "code",
   "execution_count": 3,
   "metadata": {},
   "outputs": [],
   "source": [
    "nt = nesting_tree.nesting_tree(name='test')"
   ]
  },
  {
   "cell_type": "markdown",
   "metadata": {},
   "source": [
    "*Add trees to the class. Note that the 'input' tree is now of version Q2P, whereas the output-type is standard ('std'):*"
   ]
  },
  {
   "cell_type": "code",
   "execution_count": 4,
   "metadata": {},
   "outputs": [],
   "source": [
    "nt.add_tree(tree_in,'in',**{'tree_name': 'test_in','version': 'Q2P'})\n",
    "nt.add_tree(tree_out,'out',**{'tree_name': 'test_out','type_io': 'output','version': 'std'})"
   ]
  },
  {
   "cell_type": "markdown",
   "metadata": {},
   "source": [
    "*Define the Q2P settings. This includes a multiindex (mapping) from Ei_Bj types to Bj types, included in a dictionary for the trees:*"
   ]
  },
  {
   "cell_type": "code",
   "execution_count": 5,
   "metadata": {},
   "outputs": [],
   "source": [
    "q2p = pd.MultiIndex.from_tuples([('E1_B1', 'B1'), ('E1_B2', 'B2'),('E2_B1', 'B1'), ('E2_B2','B2')],names=['n','nn'])\n",
    "Q2Ps = {'in': q2p}"
   ]
  },
  {
   "cell_type": "markdown",
   "metadata": {},
   "source": [
    "*Run all, with Q2Ps settings:*"
   ]
  },
  {
   "cell_type": "code",
   "execution_count": 6,
   "metadata": {},
   "outputs": [],
   "source": [
    "nt.run_all(Q2Ps=Q2Ps)"
   ]
  },
  {
   "cell_type": "markdown",
   "metadata": {},
   "source": [
    "## **Create production module:**"
   ]
  },
  {
   "cell_type": "markdown",
   "metadata": {},
   "source": [
    "*Partial equilibrium model, production module from nesting tree:*"
   ]
  },
  {
   "cell_type": "code",
   "execution_count": 7,
   "metadata": {},
   "outputs": [],
   "source": [
    "pm = PE.GPM_STA_PE.production(nt)"
   ]
  },
  {
   "cell_type": "markdown",
   "metadata": {},
   "source": [
    "*Write gams files to a repo called TESTS/example_1, and export the 'settings' as well:*"
   ]
  },
  {
   "cell_type": "code",
   "execution_count": 8,
   "metadata": {},
   "outputs": [],
   "source": [
    "pm.df_write(repo=os.getcwd()+'\\\\PE_P\\\\Example_2',export_settings=True)"
   ]
  },
  {
   "cell_type": "markdown",
   "metadata": {},
   "source": [
    "*Create model instance and run:*"
   ]
  },
  {
   "cell_type": "code",
   "execution_count": 9,
   "metadata": {},
   "outputs": [],
   "source": [
    "pm.create_model_instance(repo=work_folder)\n",
    "pm.df_run()"
   ]
  }
 ],
 "metadata": {
  "kernelspec": {
   "display_name": "Python 3",
   "language": "python",
   "name": "python3"
  },
  "language_info": {
   "codemirror_mode": {
    "name": "ipython",
    "version": 3
   },
   "file_extension": ".py",
   "mimetype": "text/x-python",
   "name": "python",
   "nbconvert_exporter": "python",
   "pygments_lexer": "ipython3",
   "version": "3.7.4"
  }
 },
 "nbformat": 4,
 "nbformat_minor": 4
}
