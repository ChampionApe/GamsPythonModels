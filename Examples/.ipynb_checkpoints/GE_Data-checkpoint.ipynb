{
 "cells": [
  {
   "cell_type": "code",
   "execution_count": 1,
   "metadata": {},
   "outputs": [
    {
     "name": "stdout",
     "output_type": "stream",
     "text": [
      "The file_gams_py_gdb1.gdx is still active and was not deleted.\n"
     ]
    }
   ],
   "source": [
    "clean_up=True # removes gams-related files in work-folder if true\n",
    "%run StdPackages.ipynb"
   ]
  },
  {
   "cell_type": "markdown",
   "metadata": {},
   "source": [
    "<h1><center>Read in and arrange GE data</center></h1>"
   ]
  },
  {
   "cell_type": "markdown",
   "metadata": {},
   "source": [
    "This example outlines how the function 'read_data' from ReadData.py works. The current ipynb-file essentially executes the following:"
   ]
  },
  {
   "cell_type": "code",
   "execution_count": 2,
   "metadata": {},
   "outputs": [],
   "source": [
    "data_folder = os.getcwd()+'\\\\Data'\n",
    "data = {'Production_v': data_folder+'\\\\Production_v.xlsx', 'Production_p': data_folder+'\\\\Production_p.xlsx'}\n",
    "db_test = ReadData.read_data.main(data,export_to=data_folder+'\\\\out_example')"
   ]
  },
  {
   "cell_type": "markdown",
   "metadata": {},
   "source": [
    "Sets:"
   ]
  },
  {
   "cell_type": "markdown",
   "metadata": {},
   "source": [
    "*NB: When reading in data remove the following entries:*"
   ]
  },
  {
   "cell_type": "code",
   "execution_count": 3,
   "metadata": {},
   "outputs": [],
   "source": [
    "clean_data = [np.nan,'NA',0]"
   ]
  },
  {
   "cell_type": "markdown",
   "metadata": {},
   "source": [
    "The general structure of the example:\n",
    "* Two domestic production sectors: $\\lbrace a,b\\rbrace$.\n",
    "* Two domestically produced goods (for simplicity, the same as sectors): $\\lbrace a,b\\rbrace$.\n",
    "* Two foreign goods: $\\lbrace a\\_F,b\\_F\\rbrace$.\n",
    "* Two durable goods: $\\lbrace iB, iM\\rbrace$. \n",
    "* One type of labor (supplied by household module): $L$.\n",
    "* One type of 'tax' component for each sector: $T$. (not split into e.g. VAT and other taxes)\n",
    "* One inventory variable for each sector. "
   ]
  },
  {
   "cell_type": "markdown",
   "metadata": {},
   "source": [
    "The naming convention:\n",
    "\n",
    "* Sets (*NB: Elements naturally overlap, e.g. as some goods are inherently produced by a given sector*):\n",
    "    * $s$: Sector. Includes $\\lbrace a,b,a\\_F,b\\_F,T\\rbrace$ (from production module).\n",
    "    * $n$: Goods. Includes $\\lbrace a,b,L,iB,iM,a\\_F,b\\_F,T\\rbrace$. May include composite goods defined in each sector (this is specified later in the production module).\n",
    "    * $itype$: Investment-types. Includes $\\lbrace iM,iB\\rbrace$.\n",
    "* Alias' are defined by repeating the set-symbol, i.e. $ss,sss$ are both alias' of $s$. "
   ]
  },
  {
   "cell_type": "markdown",
   "metadata": {},
   "source": [
    "* Subsets: \n",
    "    * $n\\_fg(n)$: Final goods types. All goods minus composite goods defined in sectors (see production module).\n",
    "    * $s\\_prod(s)$: Sectors in production module, domestic. $\\lbrace a,b\\rbrace$.\n",
    "    * $s\\_for(s)$: Foreign 'sectors'. $\\lbrace a\\_F,b\\_F\\rbrace$.\n",
    "    * $n\\_for(n)$: Foreign 'goods'. $\\lbrace a\\_F,b\\_F\\rbrace$.\n",
    "    * $n\\_tax(n)$: Tax 'goods'. $\\lbrace T\\rbrace$.\n",
    "    * $n\\_dur(n)$: Durable goods. $\\lbrace iB, iM\\rbrace$."
   ]
  },
  {
   "cell_type": "markdown",
   "metadata": {},
   "source": [
    "* Variables: \n",
    "    * $vS(s,n)$: value of good $n$ supplied by sector $s$. Only defined for $n\\_fg(n)$ types.\n",
    "    * $vD(s,n)$: value of good $n$ demanded by sector $s$.\n",
    "    * $vIS(s,itype)$: value of investment of type supplied by investment sector $itype$ to sector $s$; this is the amount of capital added to sector $s$'s durable stock.\n",
    "    * $vID(s,itype)$: value of investment that investment sector $itype$ demands of from sector $s$. \n",
    "    * $PbT(s,n)$: price on goods $n$ produced by sector $s$, before taxes. Defined for $(s,n)$ combinations in $qS$.\n",
    "    * $PwT(s,n)$: price on goods $n$ purchased by sector $s$, with taxes. Defined for $(s,n)$ combinations in $qD$. \n",
    "    * $pIS(s,itype)$: price on investment good (output from I-sector) $itype$, purchased by sector $s$. \n",
    "    * $pID(s,itype)$: price on investment good (input to I-sector) $itype$ purchased from sector $s$.\n",
    "    * $qD(s,n)$: quantity of good $n$ demanded by sector $s$.  \n",
    "    * $qS(s,n)$: quantity of good $n$ supplied by sector $s$."
   ]
  },
  {
   "cell_type": "markdown",
   "metadata": {},
   "source": [
    "* Mappings:\n",
    "    * Generally: $d\\_x$ denotes dummies for variable-type $x$. Currently, mappings are only defined for value-variables (as they are essentially the same for price and value variables)."
   ]
  },
  {
   "cell_type": "markdown",
   "metadata": {},
   "source": [
    "### **0: Options**"
   ]
  },
  {
   "cell_type": "code",
   "execution_count": 4,
   "metadata": {},
   "outputs": [],
   "source": [
    "data_folder = os.getcwd()+'\\\\Data'"
   ]
  },
  {
   "cell_type": "markdown",
   "metadata": {},
   "source": [
    "### **1: Data for production module**"
   ]
  },
  {
   "cell_type": "markdown",
   "metadata": {},
   "source": [
    "#### **1.1: Values**"
   ]
  },
  {
   "cell_type": "markdown",
   "metadata": {},
   "source": [
    "**Domestic sectors:**\n",
    "\n",
    "*Read in variables from sheet, read sets from variables, define subsets as all elements from these components:*"
   ]
  },
  {
   "cell_type": "code",
   "execution_count": 5,
   "metadata": {},
   "outputs": [],
   "source": [
    "db_dom = DataBase.py_db()\n",
    "db_dom.read_from_excel(data_folder+'\\\\Production_v.xlsx',{'vars_panel': {'sheets': {'sec_domestic': 2}, 'names': {}}})\n",
    "db_dom.upd_sets_from_vars()\n",
    "db_dom['s_prod'] = db_dom['s']"
   ]
  },
  {
   "cell_type": "markdown",
   "metadata": {},
   "source": [
    "**Trade:**"
   ]
  },
  {
   "cell_type": "code",
   "execution_count": 6,
   "metadata": {},
   "outputs": [],
   "source": [
    "db_trade = DataBase.py_db()\n",
    "db_trade.read_from_excel(data_folder+'\\\\Production_v.xlsx',{'vars_panel': {'sheets': {'sec_trade': 2}, 'names': {}}})\n",
    "db_trade.upd_sets_from_vars()\n",
    "db_trade['n_for'] = db_trade['n']\n",
    "db_trade['s_for'] = pd.Index(db_trade['n'],name='s')"
   ]
  },
  {
   "cell_type": "markdown",
   "metadata": {},
   "source": [
    "**Tax:**"
   ]
  },
  {
   "cell_type": "code",
   "execution_count": 7,
   "metadata": {},
   "outputs": [],
   "source": [
    "db_tax = DataBase.py_db()\n",
    "db_tax.read_from_excel(data_folder+'\\\\Production_v.xlsx',{'vars_panel': {'sheets': {'sec_tax': 2}, 'names': {}}})\n",
    "db_tax.upd_sets_from_vars()\n",
    "db_tax['n_tax'] = db_tax['n']"
   ]
  },
  {
   "cell_type": "markdown",
   "metadata": {},
   "source": [
    "**Invest, 'supply':**"
   ]
  },
  {
   "cell_type": "code",
   "execution_count": 8,
   "metadata": {},
   "outputs": [],
   "source": [
    "db_invest_s = DataBase.py_db()\n",
    "db_invest_s.read_from_excel(data_folder+'\\\\Production_v.xlsx',{'vars_panel': {'sheets': {'sec_invest_S': 2}, 'names': {}}})\n",
    "db_invest_s.upd_sets_from_vars()\n",
    "db_invest_s['n_dur'] = pd.Index(db_dom['n'].intersection(db_invest_s['itype']), name='n')"
   ]
  },
  {
   "cell_type": "markdown",
   "metadata": {},
   "source": [
    "**Invest, 'demand':**"
   ]
  },
  {
   "cell_type": "code",
   "execution_count": 9,
   "metadata": {},
   "outputs": [],
   "source": [
    "db_invest_d = DataBase.py_db()\n",
    "db_invest_d.read_from_excel(data_folder+'\\\\Production_v.xlsx',{'vars_panel': {'sheets': {'sec_invest_D': 2}, 'names': {}}})\n",
    "db_invest_d.upd_sets_from_vars()"
   ]
  },
  {
   "cell_type": "markdown",
   "metadata": {},
   "source": [
    "**Merge databases:**"
   ]
  },
  {
   "cell_type": "markdown",
   "metadata": {},
   "source": [
    "*Initialize with alias':*"
   ]
  },
  {
   "cell_type": "code",
   "execution_count": 10,
   "metadata": {},
   "outputs": [],
   "source": [
    "db = DataBase.py_db(alias=pd.MultiIndex.from_tuples([('s','ss'), ('n','nn'),('n','nnn')]))"
   ]
  },
  {
   "cell_type": "markdown",
   "metadata": {},
   "source": [
    "*Merge various databases into db:*"
   ]
  },
  {
   "cell_type": "code",
   "execution_count": 11,
   "metadata": {},
   "outputs": [],
   "source": [
    "for db_i in [db_dom,db_trade,db_tax,db_invest_s,db_invest_d]:\n",
    "    db.merge_dbs(db,db_i)"
   ]
  },
  {
   "cell_type": "markdown",
   "metadata": {},
   "source": [
    "*Clean data (remove nan's and similar, as specified in 'clean_data'):*"
   ]
  },
  {
   "cell_type": "code",
   "execution_count": 12,
   "metadata": {},
   "outputs": [],
   "source": [
    "for var in db.variables['variables']:\n",
    "    db[var] = db[var][(x not in clean_data for x in db[var])]\n",
    "    if np.nan in clean_data:\n",
    "        db[var] = db[var].dropna()"
   ]
  },
  {
   "cell_type": "markdown",
   "metadata": {},
   "source": [
    "*Define mappings from variables:*"
   ]
  },
  {
   "cell_type": "code",
   "execution_count": 13,
   "metadata": {},
   "outputs": [],
   "source": [
    "for var in db.variables['variables']:\n",
    "    dummy_name = 'd_'+var\n",
    "    db[dummy_name] = db[var].index"
   ]
  },
  {
   "cell_type": "markdown",
   "metadata": {},
   "source": [
    "**Data-check:**"
   ]
  },
  {
   "cell_type": "markdown",
   "metadata": {},
   "source": [
    "Value of sectors' supply $(vS)$ equals sectors' total demand $(vD)$ (the same does not hold investments):"
   ]
  },
  {
   "cell_type": "code",
   "execution_count": 14,
   "metadata": {},
   "outputs": [
    {
     "data": {
      "text/html": [
       "<div>\n",
       "<style scoped>\n",
       "    .dataframe tbody tr th:only-of-type {\n",
       "        vertical-align: middle;\n",
       "    }\n",
       "\n",
       "    .dataframe tbody tr th {\n",
       "        vertical-align: top;\n",
       "    }\n",
       "\n",
       "    .dataframe thead th {\n",
       "        text-align: right;\n",
       "    }\n",
       "</style>\n",
       "<table border=\"1\" class=\"dataframe\">\n",
       "  <thead>\n",
       "    <tr style=\"text-align: right;\">\n",
       "      <th>s</th>\n",
       "      <th>a</th>\n",
       "      <th>b</th>\n",
       "    </tr>\n",
       "  </thead>\n",
       "  <tbody>\n",
       "    <tr>\n",
       "      <th>vS</th>\n",
       "      <td>16.548254</td>\n",
       "      <td>38.271677</td>\n",
       "    </tr>\n",
       "    <tr>\n",
       "      <th>vD</th>\n",
       "      <td>16.548254</td>\n",
       "      <td>38.271677</td>\n",
       "    </tr>\n",
       "  </tbody>\n",
       "</table>\n",
       "</div>"
      ],
      "text/plain": [
       "s           a          b\n",
       "vS  16.548254  38.271677\n",
       "vD  16.548254  38.271677"
      ]
     },
     "metadata": {},
     "output_type": "display_data"
    }
   ],
   "source": [
    "display(pd.DataFrame([db['vS'].groupby('s').sum(),db['vD'].groupby('s').sum()]))\n",
    "assert max(abs(db['vS'].groupby('s').sum()-db['vD'].groupby('s').sum()))<1e-9, \"Data is not balanced.\""
   ]
  },
  {
   "cell_type": "markdown",
   "metadata": {},
   "source": [
    "#### **1.2: Prices**"
   ]
  },
  {
   "cell_type": "code",
   "execution_count": 15,
   "metadata": {},
   "outputs": [],
   "source": [
    "db.read_from_excel(data_folder+'\\\\Production_p.xlsx', {'vars_panel': {'sheets': {'sec_goods': 2, 'sec_invest_S': 2, 'sec_invest_D': 2}, 'names': {}}})"
   ]
  },
  {
   "cell_type": "code",
   "execution_count": 16,
   "metadata": {},
   "outputs": [],
   "source": [
    "for var in db.variables['variables']:\n",
    "    db[var] = db[var][(x not in clean_data for x in db[var])]\n",
    "    if np.nan in clean_data:\n",
    "        db[var] = db[var].dropna()"
   ]
  },
  {
   "cell_type": "markdown",
   "metadata": {},
   "source": [
    "#### **1.3: Quantities**"
   ]
  },
  {
   "cell_type": "markdown",
   "metadata": {},
   "source": [
    "*Define quantities:*"
   ]
  },
  {
   "cell_type": "code",
   "execution_count": 17,
   "metadata": {},
   "outputs": [],
   "source": [
    "db['qD'] = db['vD']/db['PwT']\n",
    "db['qS'] = db['vS']/db['PwT']\n",
    "db['qID'] = db['vID']/db['pID']\n",
    "db['qIS'] = db['vIS']/db['pIS']\n",
    "for x in ('qD','qS','qID','qIS'):\n",
    "    db[x].name = x"
   ]
  },
  {
   "cell_type": "markdown",
   "metadata": {},
   "source": [
    "*Clean data:*"
   ]
  },
  {
   "cell_type": "code",
   "execution_count": 18,
   "metadata": {},
   "outputs": [],
   "source": [
    "for var in db.variables['variables']:\n",
    "    db[var] = db[var][(x not in clean_data for x in db[var])]\n",
    "    if np.nan in clean_data:\n",
    "        db[var] = db[var].dropna()"
   ]
  },
  {
   "cell_type": "markdown",
   "metadata": {},
   "source": [
    "#### **Export:**"
   ]
  },
  {
   "cell_type": "code",
   "execution_count": 19,
   "metadata": {},
   "outputs": [],
   "source": [
    "db.merge_internal()\n",
    "# db.db_Gdx.export(data_folder+'\\\\out_example')"
   ]
  }
 ],
 "metadata": {
  "kernelspec": {
   "display_name": "Python 3",
   "language": "python",
   "name": "python3"
  },
  "language_info": {
   "codemirror_mode": {
    "name": "ipython",
    "version": 3
   },
   "file_extension": ".py",
   "mimetype": "text/x-python",
   "name": "python",
   "nbconvert_exporter": "python",
   "pygments_lexer": "ipython3",
   "version": "3.7.9"
  }
 },
 "nbformat": 4,
 "nbformat_minor": 4
}
