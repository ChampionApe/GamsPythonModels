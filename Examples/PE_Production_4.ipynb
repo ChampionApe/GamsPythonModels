{
 "cells": [
  {
   "cell_type": "markdown",
   "metadata": {},
   "source": [
    "# **Static, partial equilibrium model**\n",
    "### **Production module, example 4:**\n",
    "\n",
    "*Example 1 sets up a nesting tree consisting of one tree (input-type), initializes the production module in the partial equilibrium framework, run (with some default initial values/parameter values), and calibrate the model.*"
   ]
  },
  {
   "cell_type": "markdown",
   "metadata": {},
   "source": [
    "Import standard collection of packages:"
   ]
  },
  {
   "cell_type": "code",
   "execution_count": 1,
   "metadata": {},
   "outputs": [],
   "source": [
    "clean_up=True # removes gams-related files in work-folder if true\n",
    "%run StdPackages.ipynb"
   ]
  },
  {
   "cell_type": "markdown",
   "metadata": {},
   "source": [
    "## **Nesting structure:**"
   ]
  },
  {
   "cell_type": "markdown",
   "metadata": {},
   "source": [
    "*Nesting trees:*"
   ]
  },
  {
   "cell_type": "code",
   "execution_count": 2,
   "metadata": {},
   "outputs": [],
   "source": [
    "tree_in = {'Y': ['KY1','LY2'],\n",
    "           'KY1': ['K','Y1'],\n",
    "           'LY2': ['L','Y2']}\n",
    "# tree_out = {'Y': ['Y1_out','Y2_out']}"
   ]
  },
  {
   "cell_type": "markdown",
   "metadata": {},
   "source": [
    "*Initialize empty class with some name:*"
   ]
  },
  {
   "cell_type": "code",
   "execution_count": 3,
   "metadata": {},
   "outputs": [],
   "source": [
    "nt = nesting_tree.nesting_tree(name='test')"
   ]
  },
  {
   "cell_type": "markdown",
   "metadata": {},
   "source": [
    "*Add trees with various settings (NB: Using'normalized' versions throughout the entire tree can make the system of equations quite difficult to solve):*"
   ]
  },
  {
   "cell_type": "markdown",
   "metadata": {},
   "source": [
    "*Input types:*"
   ]
  },
  {
   "cell_type": "code",
   "execution_count": 4,
   "metadata": {},
   "outputs": [],
   "source": [
    "nt.add_tree(tree_in,'s1_in',**{'tree_name': 's1_in','version': 'std'}) # regular CES version.\n",
    "# nt.add_tree(tree_in,'in',**{'tree_name': 'test_in','type_f': 'norm_CES'}) # normalized CES-version.\n",
    "# nt.add_tree(tree_in,'in',**{'tree_name': 'test_in','type_f': 'MNL'}) # MNL input-like system.\n",
    "# nt.add_tree(tree_in,'in',**{'tree_name': 'test_in','type_f': 'MNL', 'version': 'MNL_w_mu'}) # MNL input-like system with mu-parameters in the share functions."
   ]
  },
  {
   "cell_type": "markdown",
   "metadata": {},
   "source": [
    "*Output types:*"
   ]
  },
  {
   "cell_type": "code",
   "execution_count": 5,
   "metadata": {},
   "outputs": [],
   "source": [
    "# nt.add_tree(tree_out,'s1_out',**{'tree_name': 's1_out','type_io': 'output','version': 'std'}) # regular CET version.\n",
    "# nt.add_tree(tree_out,'out',**{'tree_name': 'test_out','type_io': 'output', 'type_f': 'norm_CET'}) # normalized CET version.\n",
    "# nt.add_tree(tree_out,'out',**{'tree_name': 'test_out','type_io': 'output','type_f': 'MNL_out'})"
   ]
  },
  {
   "cell_type": "markdown",
   "metadata": {},
   "source": [
    "*Retrieve sets/subsets/mappings from trees:*"
   ]
  },
  {
   "cell_type": "code",
   "execution_count": 6,
   "metadata": {},
   "outputs": [],
   "source": [
    "nt.run_all()"
   ]
  },
  {
   "cell_type": "markdown",
   "metadata": {},
   "source": [
    "## **Create production module:**"
   ]
  },
  {
   "cell_type": "markdown",
   "metadata": {},
   "source": [
    "*Partial equilibrium model, production module from nesting tree:*"
   ]
  },
  {
   "cell_type": "code",
   "execution_count": 7,
   "metadata": {},
   "outputs": [
    {
     "ename": "NameError",
     "evalue": "name 'PE' is not defined",
     "output_type": "error",
     "traceback": [
      "\u001b[1;31m---------------------------------------------------------------------------\u001b[0m",
      "\u001b[1;31mNameError\u001b[0m                                 Traceback (most recent call last)",
      "\u001b[1;32m<ipython-input-7-9d06919ed259>\u001b[0m in \u001b[0;36m<module>\u001b[1;34m\u001b[0m\n\u001b[1;32m----> 1\u001b[1;33m \u001b[0mpm\u001b[0m \u001b[1;33m=\u001b[0m \u001b[0mPE\u001b[0m\u001b[1;33m.\u001b[0m\u001b[0mGPM_STA_PE\u001b[0m\u001b[1;33m.\u001b[0m\u001b[0mproduction\u001b[0m\u001b[1;33m(\u001b[0m\u001b[0mnt\u001b[0m\u001b[1;33m)\u001b[0m\u001b[1;33m\u001b[0m\u001b[1;33m\u001b[0m\u001b[0m\n\u001b[0m",
      "\u001b[1;31mNameError\u001b[0m: name 'PE' is not defined"
     ]
    }
   ],
   "source": [
    "pm = PE.GPM_STA_PE.production(nt)"
   ]
  },
  {
   "cell_type": "markdown",
   "metadata": {},
   "source": [
    "*Write gams files to a repo called PE_P/Example_1, and export the 'settings' as well:*"
   ]
  },
  {
   "cell_type": "code",
   "execution_count": null,
   "metadata": {},
   "outputs": [],
   "source": [
    "pm.df_write(repo=os.getcwd()+'\\\\PE_P\\\\Example_4',export_settings=True)"
   ]
  },
  {
   "cell_type": "markdown",
   "metadata": {},
   "source": [
    "*Create model instance, checkpoint, and run:*"
   ]
  },
  {
   "cell_type": "code",
   "execution_count": null,
   "metadata": {},
   "outputs": [],
   "source": [
    "pm.calibrate_model(repo=work_folder)"
   ]
  },
  {
   "cell_type": "code",
   "execution_count": null,
   "metadata": {},
   "outputs": [],
   "source": [
    "pm.create_model_instance(repo=work_folder,name='baseline')\n",
    "baseline = pm.model_instances['baseline'].ws.add_checkpoint()\n",
    "pm.df_run(name='baseline',options_run={'checkpoint': baseline})"
   ]
  },
  {
   "cell_type": "markdown",
   "metadata": {},
   "source": [
    "In baseline, unfix $\\mu$ parameters, fix prices and quantities for input/output types:"
   ]
  },
  {
   "cell_type": "code",
   "execution_count": null,
   "metadata": {},
   "outputs": [],
   "source": [
    "pm.model.settings.name"
   ]
  },
  {
   "cell_type": "code",
   "execution_count": null,
   "metadata": {},
   "outputs": [],
   "source": [
    "job = pm.model_instances['baseline'].ws.add_job_from_string(\"\"\"\n",
    "qS.fx[n]$(out[n]) = qS.l[n];\n",
    "qD.fx[n]$(inp[n]) = qD.l[n];\n",
    "mu.lo[n,nn]$(map_all[n,nn] and inp[n]) = -inf;\n",
    "mu.up[n,nn]$(map_all[n,nn] and inp[n]) = inf;\n",
    "solve test using CNS;\n",
    "\"\"\",**{'checkpoint': baseline})"
   ]
  },
  {
   "cell_type": "code",
   "execution_count": null,
   "metadata": {},
   "outputs": [],
   "source": [
    "pm.model_instances['baseline'].__dict__"
   ]
  },
  {
   "cell_type": "code",
   "execution_count": null,
   "metadata": {},
   "outputs": [],
   "source": [
    "job.run()"
   ]
  },
  {
   "cell_type": "markdown",
   "metadata": {},
   "source": [
    "## **Calibration to national accounts-like data:**"
   ]
  }
 ],
 "metadata": {
  "kernelspec": {
   "display_name": "Python 3",
   "language": "python",
   "name": "python3"
  },
  "language_info": {
   "codemirror_mode": {
    "name": "ipython",
    "version": 3
   },
   "file_extension": ".py",
   "mimetype": "text/x-python",
   "name": "python",
   "nbconvert_exporter": "python",
   "pygments_lexer": "ipython3",
   "version": "3.7.4"
  }
 },
 "nbformat": 4,
 "nbformat_minor": 4
}
