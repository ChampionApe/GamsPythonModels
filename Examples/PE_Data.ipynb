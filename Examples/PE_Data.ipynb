{
 "cells": [
  {
   "cell_type": "code",
   "execution_count": 1,
   "metadata": {},
   "outputs": [],
   "source": [
    "clean_up=True # removes gams-related files in work-folder if true\n",
    "%run StdPackages.ipynb"
   ]
  },
  {
   "cell_type": "markdown",
   "metadata": {},
   "source": [
    "<h1><center>Read PE data from GE data</center></h1>"
   ]
  },
  {
   "cell_type": "code",
   "execution_count": 2,
   "metadata": {},
   "outputs": [],
   "source": [
    "data_folder = os.getcwd()+'\\\\Data'\n",
    "data = {'Production_v': data_folder+'\\\\Production_v.xlsx', 'Production_p': data_folder+'\\\\Production_p.xlsx'}\n",
    "db = ReadData.read_data.main(data)"
   ]
  },
  {
   "cell_type": "markdown",
   "metadata": {},
   "source": [
    "This example outlines how the function 'PE_from_GE' from ReadData.py works. The current ipynb-file essentially executes the following:"
   ]
  },
  {
   "cell_type": "code",
   "execution_count": 3,
   "metadata": {},
   "outputs": [],
   "source": [
    "s0 = 'a'\n",
    "db_new = ReadData.PE_from_GE(db,s0)"
   ]
  },
  {
   "cell_type": "markdown",
   "metadata": {},
   "source": [
    "The sector set $(s)$ is dropped, subsets defined over $s$ are dropped, variables and parameters are sliced according to $s$ as well."
   ]
  },
  {
   "cell_type": "markdown",
   "metadata": {},
   "source": [
    "**1: Sets**"
   ]
  },
  {
   "cell_type": "markdown",
   "metadata": {},
   "source": [
    "*Alias':*"
   ]
  },
  {
   "cell_type": "code",
   "execution_count": 4,
   "metadata": {},
   "outputs": [],
   "source": [
    "if 'alias_set' in db:\n",
    "    if not (len(db['alias_set'])==1 and (db['alias_set']=='s').any()):\n",
    "        db_new['alias_set'] = db['alias_set'][db['alias_set']!='s']\n",
    "        db_new['alias_map2'] = db['alias_map2'][~db['alias_map2'].isin(db.alias_all['s'])]\n",
    "        db_new['alias_'] = db['alias_'][db['alias_'].get_level_values(0)!='s']"
   ]
  },
  {
   "cell_type": "markdown",
   "metadata": {},
   "source": [
    "*Sets:*"
   ]
  },
  {
   "cell_type": "code",
   "execution_count": 5,
   "metadata": {},
   "outputs": [],
   "source": [
    "for set_ in (set(db.sets['sets'])-set(db.alias_all['s'])-set('s')-set(['alias_set','alias_map2'])):\n",
    "    db_new[set_] = db[set_]"
   ]
  },
  {
   "cell_type": "markdown",
   "metadata": {},
   "source": [
    "*Subsets and mappings:*"
   ]
  },
  {
   "cell_type": "code",
   "execution_count": 6,
   "metadata": {},
   "outputs": [],
   "source": [
    "for set_ in db.sets['subsets']:\n",
    "    if set_ not in db_new and db[set_].name!='s':\n",
    "        db_new[set_] = db[set_]\n",
    "for set_ in db.sets['mappings']:\n",
    "    if set_!='alias_':\n",
    "        db_new[set_] = db[set_] if 's' not in db[set_].names else db[set_][db[set_].get_level_values('s')!=s0].droplevel(level='s').unique()"
   ]
  },
  {
   "cell_type": "markdown",
   "metadata": {},
   "source": [
    "**2: Variables/parameters**"
   ]
  },
  {
   "cell_type": "markdown",
   "metadata": {},
   "source": [
    "Update variables:"
   ]
  },
  {
   "cell_type": "code",
   "execution_count": 7,
   "metadata": {},
   "outputs": [],
   "source": [
    "for scalar in db.variables['scalar_variables']:\n",
    "    db_new[scalar] = db[scalar]\n",
    "for scalar in db.parameters['scalar_parameters']:\n",
    "    db_new[scalar] = db[scalar]\n",
    "for var in db.variables['variables']:\n",
    "    db_new[var] = db[var] if 's' not in db[var].index.names else db[var][db[var].index.get_level_values('s')==s0].droplevel('s')\n",
    "    db_new[var].attrs['type'] = 'variable'\n",
    "for par in db.parameters['parameters']:\n",
    "    db_new[par] = db[par] if 's' not in db[par].index.names else db[par][db[par].index.get_level_values('s')==s0].droplevel('s')\n",
    "    db_new[par].attrs['type'] = 'parameter'    "
   ]
  }
 ],
 "metadata": {
  "kernelspec": {
   "display_name": "Python 3",
   "language": "python",
   "name": "python3"
  },
  "language_info": {
   "codemirror_mode": {
    "name": "ipython",
    "version": 3
   },
   "file_extension": ".py",
   "mimetype": "text/x-python",
   "name": "python",
   "nbconvert_exporter": "python",
   "pygments_lexer": "ipython3",
   "version": "3.7.4"
  }
 },
 "nbformat": 4,
 "nbformat_minor": 4
}
