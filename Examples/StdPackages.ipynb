{
 "cells": [
  {
   "cell_type": "code",
   "execution_count": 1,
   "metadata": {},
   "outputs": [
    {
     "ename": "ModuleNotFoundError",
     "evalue": "No module named 'FileLink'",
     "output_type": "error",
     "traceback": [
      "\u001b[1;31m---------------------------------------------------------------------------\u001b[0m",
      "\u001b[1;31mModuleNotFoundError\u001b[0m                       Traceback (most recent call last)",
      "\u001b[1;32m<ipython-input-1-650687f5ff83>\u001b[0m in \u001b[0;36m<module>\u001b[1;34m\u001b[0m\n\u001b[0;32m      4\u001b[0m \u001b[1;32mimport\u001b[0m \u001b[0mnumpy\u001b[0m \u001b[1;32mas\u001b[0m \u001b[0mnp\u001b[0m\u001b[1;33m\u001b[0m\u001b[1;33m\u001b[0m\u001b[0m\n\u001b[0;32m      5\u001b[0m \u001b[1;32mimport\u001b[0m \u001b[0mpandas\u001b[0m \u001b[1;32mas\u001b[0m \u001b[0mpd\u001b[0m\u001b[1;33m\u001b[0m\u001b[1;33m\u001b[0m\u001b[0m\n\u001b[1;32m----> 6\u001b[1;33m \u001b[1;32mimport\u001b[0m \u001b[0mFileLink\u001b[0m\u001b[1;33m,\u001b[0m \u001b[0mFileLinks\u001b[0m\u001b[1;33m\u001b[0m\u001b[1;33m\u001b[0m\u001b[0m\n\u001b[0m\u001b[0;32m      7\u001b[0m \u001b[0mcurr\u001b[0m \u001b[1;33m=\u001b[0m \u001b[0mos\u001b[0m\u001b[1;33m.\u001b[0m\u001b[0mgetcwd\u001b[0m\u001b[1;33m(\u001b[0m\u001b[1;33m)\u001b[0m\u001b[1;33m\u001b[0m\u001b[1;33m\u001b[0m\u001b[0m\n\u001b[0;32m      8\u001b[0m \u001b[0mmain\u001b[0m \u001b[1;33m=\u001b[0m \u001b[0mos\u001b[0m\u001b[1;33m.\u001b[0m\u001b[0mgetcwd\u001b[0m\u001b[1;33m(\u001b[0m\u001b[1;33m)\u001b[0m\u001b[1;33m.\u001b[0m\u001b[0msplit\u001b[0m\u001b[1;33m(\u001b[0m\u001b[1;34m'GamsPythonModels'\u001b[0m\u001b[1;33m)\u001b[0m\u001b[1;33m[\u001b[0m\u001b[1;36m0\u001b[0m\u001b[1;33m]\u001b[0m\u001b[1;33m+\u001b[0m\u001b[1;34m'GamsPythonModels'\u001b[0m\u001b[1;33m\u001b[0m\u001b[1;33m\u001b[0m\u001b[0m\n",
      "\u001b[1;31mModuleNotFoundError\u001b[0m: No module named 'FileLink'"
     ]
    }
   ],
   "source": [
    "# Site-packages:\n",
    "import os\n",
    "import sys\n",
    "import numpy as np\n",
    "import pandas as pd\n",
    "curr = os.getcwd()\n",
    "main = os.getcwd().split('GamsPythonModels')[0]+'GamsPythonModels'\n",
    "project = main+'\\\\'+os.getcwd().split('GamsPythonModels')[1].split('\\\\')[1]\n",
    "py = {}\n",
    "py['main'] = main+'\\\\py_main'\n",
    "# py['project'] = project+'\\\\py_project'\n",
    "# py['local'] = curr+'\\\\py_local'\n",
    "work_folder = main+'\\\\work_folder'\n",
    "# Main GPM packages:\n",
    "os.chdir(py['main'])\n",
    "import nesting_tree\n",
    "import DataBase\n",
    "import COE\n",
    "import COE_settings\n",
    "import regex_gms\n",
    "import DB2Gams\n",
    "import ModelFrame_PE as PE\n",
    "# Project packages:\n",
    "# os.chdir(py['project'])\n",
    "# Local packages:\n",
    "# os.chdir(py['local'])\n",
    "# import LOCALPACKAGE \n",
    "os.chdir(curr)"
   ]
  },
  {
   "cell_type": "markdown",
   "metadata": {},
   "source": [
    "Clean-up?"
   ]
  },
  {
   "cell_type": "code",
   "execution_count": 2,
   "metadata": {},
   "outputs": [
    {
     "name": "stdout",
     "output_type": "stream",
     "text": [
      "No clean-up of work-folder\n"
     ]
    }
   ],
   "source": [
    "try:\n",
    "    if clean_up is True:\n",
    "        temp_gamsdb = [filename for filename in os.listdir(work_folder) if filename.endswith((\".gdx\",\".gms\",\".lst\",\".g00\",\".pf\",\".opt\",\".gmy\"))]\n",
    "        for temp in temp_gamsdb:\n",
    "            try:\n",
    "                os.remove(work_folder+'\\\\'+temp)\n",
    "            except OSError as err:\n",
    "                print('The file' + temp + ' is still active and was not deleted.')\n",
    "except NameError:\n",
    "    print('No clean-up of work-folder')"
   ]
  }
 ],
 "metadata": {
  "kernelspec": {
   "display_name": "Python 3",
   "language": "python",
   "name": "python3"
  },
  "language_info": {
   "codemirror_mode": {
    "name": "ipython",
    "version": 3
   },
   "file_extension": ".py",
   "mimetype": "text/x-python",
   "name": "python",
   "nbconvert_exporter": "python",
   "pygments_lexer": "ipython3",
   "version": "3.7.4"
  }
 },
 "nbformat": 4,
 "nbformat_minor": 4
}
