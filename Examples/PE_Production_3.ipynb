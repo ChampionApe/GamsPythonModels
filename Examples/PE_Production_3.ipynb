{
 "cells": [
  {
   "cell_type": "code",
   "execution_count": 1,
   "metadata": {},
   "outputs": [],
   "source": [
    "clean_up=True # removes gams-related files in work-folder if true\n",
    "%run StdPackages.ipynb"
   ]
  },
  {
   "cell_type": "markdown",
   "metadata": {},
   "source": [
    "# **Static, partial equilibrium model**\n",
    "### **Production module, example 3:**\n",
    "\n",
    "*Example 3 defines a partial equilibrium model from data, including nesting structure, and calibration targets. The model is as stylized as possible, ignoring investments, trade and taxes.*"
   ]
  },
  {
   "cell_type": "markdown",
   "metadata": {},
   "source": [
    "**NB: The module can run with the cobb-douglas specification ($\\sigma=1$). However, when this is the case, the sum of $\\mu$-parameters should equal 1 (to keep constant returns to scale).**"
   ]
  },
  {
   "cell_type": "markdown",
   "metadata": {},
   "source": [
    "### **1: Read in data, and nesting structure**"
   ]
  },
  {
   "cell_type": "markdown",
   "metadata": {},
   "source": [
    "Read in general equilibrium data:"
   ]
  },
  {
   "cell_type": "code",
   "execution_count": 2,
   "metadata": {},
   "outputs": [],
   "source": [
    "data_folder = os.getcwd()+'\\\\PE_P\\\\Example_3'\n",
    "data = {'Production_v': data_folder+'\\\\Production_v.xlsx', 'Production_p': data_folder+'\\\\Production_p.xlsx'}\n",
    "components = ['domestic']\n",
    "db_GE = ReadData.read_data.main(data,components=components)"
   ]
  },
  {
   "cell_type": "markdown",
   "metadata": {},
   "source": [
    "Extract data on sector 's1' from GE data:"
   ]
  },
  {
   "cell_type": "code",
   "execution_count": 3,
   "metadata": {},
   "outputs": [],
   "source": [
    "s0 = 's1'\n",
    "db_PE = ReadData.PE_from_GE(db_GE,s0)"
   ]
  },
  {
   "cell_type": "markdown",
   "metadata": {},
   "source": [
    "Read in nesting:"
   ]
  },
  {
   "cell_type": "code",
   "execution_count": 4,
   "metadata": {},
   "outputs": [],
   "source": [
    "nt = nesting_tree.nesting_tree(name='PE_Example3')"
   ]
  },
  {
   "cell_type": "markdown",
   "metadata": {},
   "source": [
    "*Input-part:*"
   ]
  },
  {
   "cell_type": "code",
   "execution_count": 5,
   "metadata": {},
   "outputs": [],
   "source": [
    "nt.add_tree(data_folder+'\\\\nest_s1_in.xlsx',name='s1_in')\n",
    "read_type = {'1dvars': {'sheets': ['sigma'],'names':{}}, 'vars_panel': {'sheets': {'mu': 2},'names': {}}}\n",
    "nt.trees['s1_in'].database.read_from_excel(data_folder+'\\\\nest_s1_in.xlsx',read_type)"
   ]
  },
  {
   "cell_type": "markdown",
   "metadata": {},
   "source": [
    "*Output-split:*"
   ]
  },
  {
   "cell_type": "code",
   "execution_count": 6,
   "metadata": {},
   "outputs": [],
   "source": [
    "nt.add_tree(data_folder+'\\\\nest_s1_out.xlsx',name='s1_out',**{'type_io': 'output', 'type_f': 'CET'})\n",
    "nt.trees['s1_out'].database.read_from_excel(data_folder+'\\\\nest_s1_out.xlsx',read_type)"
   ]
  },
  {
   "cell_type": "markdown",
   "metadata": {},
   "source": [
    "*NB: Note that both Y1,Y2 are used as inputs and outputs. To accomodate for this, we use the feature of temporarily applying new set-names to selected elements of the nesting tree. A dict keeps track of the original names and reverts the names after collecting the nesting trees later on. This feature is called by adding 'temp_namespace' as in the following:*"
   ]
  },
  {
   "cell_type": "code",
   "execution_count": 7,
   "metadata": {},
   "outputs": [],
   "source": [
    "nt.trees['s1_out'].temp_namespace = {'Y1': 'Y1_out', 'Y2': 'Y2_out'}"
   ]
  },
  {
   "cell_type": "markdown",
   "metadata": {},
   "source": [
    "### **2: Set up baseline model**"
   ]
  },
  {
   "cell_type": "markdown",
   "metadata": {},
   "source": [
    "*Compile tree attributes:*\n",
    "\n",
    "*Note that once the aggregate tree has been compiled, the temporary namespace used to have Y1,Y2 as both inputs and outputs are reversed per default - hence the 'temporary' in temporary namespace. If this is not the case, it should be specified through other means than the 'self.temp_namspace' attribute.*"
   ]
  },
  {
   "cell_type": "code",
   "execution_count": 8,
   "metadata": {},
   "outputs": [],
   "source": [
    "nt.run_all()"
   ]
  },
  {
   "cell_type": "markdown",
   "metadata": {},
   "source": [
    "*Initiate production module with calibration data:*"
   ]
  },
  {
   "cell_type": "code",
   "execution_count": 9,
   "metadata": {},
   "outputs": [],
   "source": [
    "pm = PE.GPM_STA_PE.production(nt,**{'calib_db': db_PE, 'work_folder': work_folder, 'data_folder': data_folder})"
   ]
  },
  {
   "cell_type": "markdown",
   "metadata": {},
   "source": [
    "*Run calibration function. This works as follows:*\n",
    "1. Runs baseline model:\n",
    "    * Initialize variables (if no levels are given, some default values are provided).\n",
    "    * Write gams-code to the folder self.data_folder (specified in the options above).\n",
    "    * Create a model-instance named 'baseline' per default (can be specified with kwargs 'name_base': name). \n",
    "    * Create a checkpoint named 'based 'baseline', and solve model.\n",
    "2. Create and ready calibration model instance:\n",
    "    * Create model-instance named 'calib' per default (can be specified with kwargs 'name_calib': name).\n",
    "    * Endogenize/exogenize relevant variables for calibration: self.calib contains gams-code for endogenizing $\\mu$-parameters, and exogenizing prices/quantities. Note: Initially, the calibration data for quantities/prices are not applied; this is to check that the endogenizing/exogenizing does not break the 'squareness' of the model.\n",
    "3. Run calibration model:\n",
    "    * The default mode is to calibrate the model in a 'sneaky' manner: The solve_sneakily method creates a database with grids of data between the initial solution, and the data provided in self.calib_db. We then gradually update exogenous variables in 'n_steps' towards the calibration targets.\n",
    "    * Note: When calibrating the standard partial equilibrium model, sneaking up on the solution is not as straightforward: If the production sector has constant returns to scale, it has to hold that the value of inputs equals the value of outputs; calibration of $\\mu$-parameters cannot alter this fact. Thus, making linear grids between the initial solution and the calibration target can result in unbalanced data (making the model potentially infeasible to solve for). To remedy this, the solve_sneakily method allow the user to apply one of three approaches that guarantees balanced data: \n",
    "        * For $type\\_=$'both': Input prices and quantities are linearly spaced. Let $(p0,pT,q0,qT)$ denote the initial and final (last step of the sneaky-solve) price/quantity vectors for outputs in the sector. Let $i$ index the outputs quantities/prices, and $j$ the intermediate step in the sneaky-solve. We then solve:\n",
    "        $$\\begin{align}\n",
    "            \\sum_i (x_jpT(i)+(1-x_j)p0(i))*(x_jqT(i)+(1-x_j)q0(i)) = TC_j,\n",
    "        \\end{align}$$\n",
    "        where $TC_j$ is the total costs in the j'th step (defined by summing over inputs). That is, $x_j$ solved for the weight on the final step $T$. \n",
    "        * For $type\\_=$'price': Input prices and quantities are linearly spaced. Output prices are linearly spaced as well. Quantities are spaced by solving for $x_j$:\n",
    "        $$\\begin{align}\n",
    "            \\sum_i p_j(i)*(x_jqT(i)+(1-x_j)q0(i)) = TC_j.\n",
    "        \\end{align}$$\n",
    "        Thus output quantities are non-linearly spaced to ensure that the step is feasible.\n",
    "        * For $type\\_=$'quant': The reverse case of 'price'; output quantities are linearly spaced, output prices are non-linearly spaced to ensure feasibility.\n",
    "    * Also note: Besides choosing different versions of creating balanced data, the module has been updated to create different types of nonlinear grids. Thus gridtype can be specified as $\\lbrace pol,rust,linear\\rbrace$. The 'linear' option simply applies the 'np.linspace' method. 'pol' and 'rust' methods specify grids as follows:\n",
    "    $$\\begin{align}\n",
    "        \\text{Polynomial (pol):} && x_i &= x_0+(x_N-x_0)\\left(\\dfrac{i-1}{N}\\right)^{\\phi} \\\\ \n",
    "        \\text{Rust-spaced (rust):} && x_i &= x_{i-1}+\\dfrac{x_N-x_{i-1}}{(N-i+1)^{\\phi}}.\n",
    "    \\end{align}$$\n",
    "    In both cases, a $\\phi=1$ implies a linear grid, $\\phi<1$ places more gridpoints close to the end of the grid $(x_N)$, and vice versa for $\\phi>1$. "
   ]
  },
  {
   "cell_type": "markdown",
   "metadata": {},
   "source": [
    "*Here we calibrate by taking a loooooot of steps, to make sure to get it right (this adds the polynomially spaced grid with weights in the end of the grid):*"
   ]
  },
  {
   "cell_type": "code",
   "execution_count": 10,
   "metadata": {},
   "outputs": [
    {
     "ename": "GamsExceptionExecution",
     "evalue": "GAMS return code not 0 (3), check C:\\Users\\sxj477\\Documents\\GitHub\\GamsPythonModels\\work_folder\\_gams_py_gjo1.lst for more details",
     "output_type": "error",
     "traceback": [
      "\u001b[1;31m---------------------------------------------------------------------------\u001b[0m",
      "\u001b[1;31mGamsExceptionExecution\u001b[0m                    Traceback (most recent call last)",
      "\u001b[1;32m<ipython-input-10-36eef85ce1e1>\u001b[0m in \u001b[0;36m<module>\u001b[1;34m\u001b[0m\n\u001b[1;32m----> 1\u001b[1;33m \u001b[0mpm\u001b[0m\u001b[1;33m.\u001b[0m\u001b[0mcalibrate\u001b[0m\u001b[1;33m(\u001b[0m\u001b[0mtype_\u001b[0m\u001b[1;33m=\u001b[0m\u001b[1;34m'price'\u001b[0m\u001b[1;33m,\u001b[0m\u001b[0mkwargs_shock\u001b[0m\u001b[1;33m=\u001b[0m\u001b[1;33m{\u001b[0m\u001b[1;34m'n_steps'\u001b[0m\u001b[1;33m:\u001b[0m \u001b[1;36m10\u001b[0m\u001b[1;33m,\u001b[0m\u001b[1;34m'gridtype'\u001b[0m\u001b[1;33m:\u001b[0m\u001b[1;34m'pol'\u001b[0m\u001b[1;33m,\u001b[0m\u001b[1;34m'phi'\u001b[0m\u001b[1;33m:\u001b[0m \u001b[1;36m0.5\u001b[0m\u001b[1;33m}\u001b[0m\u001b[1;33m)\u001b[0m\u001b[1;33m\u001b[0m\u001b[1;33m\u001b[0m\u001b[0m\n\u001b[0m",
      "\u001b[1;32m~\\Documents\\GitHub\\GamsPythonModels\\py_main\\ModelFrame_PE.py\u001b[0m in \u001b[0;36mcalibrate\u001b[1;34m(self, name_base, name_calib, solve_sneakily, type_, kwargs_ns, kwargs_shock)\u001b[0m\n\u001b[0;32m     90\u001b[0m                         \u001b[1;32mif\u001b[0m \u001b[0msolve_sneakily\u001b[0m \u001b[1;32mis\u001b[0m \u001b[1;32mTrue\u001b[0m\u001b[1;33m:\u001b[0m\u001b[1;33m\u001b[0m\u001b[1;33m\u001b[0m\u001b[0m\n\u001b[0;32m     91\u001b[0m                                 \u001b[0mshock_db\u001b[0m \u001b[1;33m=\u001b[0m \u001b[0mself\u001b[0m\u001b[1;33m.\u001b[0m\u001b[0mcalib_sneaky_db\u001b[0m\u001b[1;33m(\u001b[0m\u001b[0mself\u001b[0m\u001b[1;33m.\u001b[0m\u001b[0mmodel_instances\u001b[0m\u001b[1;33m[\u001b[0m\u001b[0mname_calib\u001b[0m\u001b[1;33m]\u001b[0m\u001b[1;33m.\u001b[0m\u001b[0mout_db\u001b[0m\u001b[1;33m,\u001b[0m\u001b[0mtype_\u001b[0m\u001b[1;33m=\u001b[0m\u001b[0mtype_\u001b[0m\u001b[1;33m,\u001b[0m\u001b[0mkwargs_shock\u001b[0m\u001b[1;33m=\u001b[0m\u001b[0mkwargs_shock\u001b[0m\u001b[1;33m)\u001b[0m\u001b[1;33m\u001b[0m\u001b[1;33m\u001b[0m\u001b[0m\n\u001b[1;32m---> 92\u001b[1;33m                                 \u001b[0mself\u001b[0m\u001b[1;33m.\u001b[0m\u001b[0mmodel_instances\u001b[0m\u001b[1;33m[\u001b[0m\u001b[0mname_calib\u001b[0m\u001b[1;33m]\u001b[0m\u001b[1;33m.\u001b[0m\u001b[0msolve_sneakily\u001b[0m\u001b[1;33m(\u001b[0m\u001b[0mfrom_cp\u001b[0m\u001b[1;33m=\u001b[0m\u001b[1;32mTrue\u001b[0m\u001b[1;33m,\u001b[0m\u001b[0mcp_init\u001b[0m\u001b[1;33m=\u001b[0m\u001b[0mself\u001b[0m\u001b[1;33m.\u001b[0m\u001b[0mcheckpoints\u001b[0m\u001b[1;33m[\u001b[0m\u001b[0mname_calib\u001b[0m\u001b[1;33m]\u001b[0m\u001b[1;33m,\u001b[0m\u001b[0mshock_db\u001b[0m\u001b[1;33m=\u001b[0m\u001b[0mshock_db\u001b[0m\u001b[1;33m,\u001b[0m\u001b[0mkwargs_shock\u001b[0m\u001b[1;33m=\u001b[0m\u001b[0mkwargs_shock\u001b[0m\u001b[1;33m)\u001b[0m\u001b[1;33m\u001b[0m\u001b[1;33m\u001b[0m\u001b[0m\n\u001b[0m\u001b[0;32m     93\u001b[0m \u001b[1;33m\u001b[0m\u001b[0m\n\u001b[0;32m     94\u001b[0m                 \u001b[1;32mdef\u001b[0m \u001b[0mrun_baseline\u001b[0m\u001b[1;33m(\u001b[0m\u001b[0mself\u001b[0m\u001b[1;33m,\u001b[0m\u001b[0mname\u001b[0m\u001b[1;33m=\u001b[0m\u001b[1;34m'baseline'\u001b[0m\u001b[1;33m,\u001b[0m\u001b[0madd_checkpoint\u001b[0m\u001b[1;33m=\u001b[0m\u001b[1;32mFalse\u001b[0m\u001b[1;33m)\u001b[0m\u001b[1;33m:\u001b[0m\u001b[1;33m\u001b[0m\u001b[1;33m\u001b[0m\u001b[0m\n",
      "\u001b[1;32m~\\Documents\\GitHub\\GamsPythonModels\\py_main\\DB2Gams_l3.py\u001b[0m in \u001b[0;36msolve_sneakily\u001b[1;34m(self, db_star, from_cp, cp_init, run_from_job, shock_db, options_run, kwargs_shock)\u001b[0m\n\u001b[0;32m     90\u001b[0m                 \u001b[0mshock_db\u001b[0m\u001b[1;33m.\u001b[0m\u001b[0mdb_other\u001b[0m\u001b[1;33m.\u001b[0m\u001b[0mexport\u001b[0m\u001b[1;33m(\u001b[0m\u001b[0mself\u001b[0m\u001b[1;33m.\u001b[0m\u001b[0mwork_folder\u001b[0m\u001b[1;33m+\u001b[0m\u001b[1;34m'\\\\'\u001b[0m\u001b[1;33m+\u001b[0m\u001b[0mshock_db\u001b[0m\u001b[1;33m.\u001b[0m\u001b[0mname\u001b[0m\u001b[1;33m+\u001b[0m\u001b[1;34m'.gdx'\u001b[0m\u001b[1;33m)\u001b[0m\u001b[1;33m\u001b[0m\u001b[1;33m\u001b[0m\u001b[0m\n\u001b[0;32m     91\u001b[0m                 \u001b[0mshock\u001b[0m \u001b[1;33m=\u001b[0m \u001b[0mself\u001b[0m\u001b[1;33m.\u001b[0m\u001b[0mstd_UEVAS_from_db\u001b[0m\u001b[1;33m(\u001b[0m\u001b[0mshock_db\u001b[0m\u001b[1;33m,\u001b[0m\u001b[1;33m**\u001b[0m\u001b[0mkwargs_shock\u001b[0m\u001b[1;33m)\u001b[0m\u001b[1;33m\u001b[0m\u001b[1;33m\u001b[0m\u001b[0m\n\u001b[1;32m---> 92\u001b[1;33m                 \u001b[0mself\u001b[0m\u001b[1;33m.\u001b[0m\u001b[0mexecute_shock_from_cp\u001b[0m\u001b[1;33m(\u001b[0m\u001b[0mshock\u001b[0m\u001b[1;33m,\u001b[0m\u001b[0mshock_db\u001b[0m\u001b[1;33m.\u001b[0m\u001b[0mname\u001b[0m\u001b[1;33m,\u001b[0m\u001b[0mcp_init\u001b[0m\u001b[1;33m,\u001b[0m\u001b[0moptions_run\u001b[0m\u001b[1;33m=\u001b[0m\u001b[0moptions_run\u001b[0m\u001b[1;33m)\u001b[0m\u001b[1;33m\u001b[0m\u001b[1;33m\u001b[0m\u001b[0m\n\u001b[0m\u001b[0;32m     93\u001b[0m \u001b[1;33m\u001b[0m\u001b[0m\n\u001b[0;32m     94\u001b[0m         \u001b[1;32mdef\u001b[0m \u001b[0mstd_UEVAS_from_db\u001b[0m\u001b[1;33m(\u001b[0m\u001b[0mself\u001b[0m\u001b[1;33m,\u001b[0m\u001b[0mshock_db\u001b[0m\u001b[1;33m,\u001b[0m\u001b[0mloop_name\u001b[0m\u001b[1;33m=\u001b[0m\u001b[1;34m'l1'\u001b[0m\u001b[1;33m,\u001b[0m\u001b[0mupdate_vars\u001b[0m\u001b[1;33m=\u001b[0m\u001b[1;34m'all'\u001b[0m\u001b[1;33m,\u001b[0m\u001b[0mshock_name\u001b[0m\u001b[1;33m=\u001b[0m\u001b[1;34m'shock'\u001b[0m\u001b[1;33m,\u001b[0m\u001b[1;33m**\u001b[0m\u001b[0mkwargs\u001b[0m\u001b[1;33m)\u001b[0m\u001b[1;33m:\u001b[0m\u001b[1;33m\u001b[0m\u001b[1;33m\u001b[0m\u001b[0m\n",
      "\u001b[1;32m~\\Documents\\GitHub\\GamsPythonModels\\py_main\\DB2Gams_l3.py\u001b[0m in \u001b[0;36mexecute_shock_from_cp\u001b[1;34m(self, shock, shock_db_name, cp, options_run)\u001b[0m\n\u001b[0;32m    109\u001b[0m                 \u001b[0mself\u001b[0m\u001b[1;33m.\u001b[0m\u001b[0mopt\u001b[0m\u001b[1;33m.\u001b[0m\u001b[0mdefines\u001b[0m\u001b[1;33m[\u001b[0m\u001b[0mshock_db_name\u001b[0m\u001b[1;33m]\u001b[0m \u001b[1;33m=\u001b[0m \u001b[0mshock_db_name\u001b[0m\u001b[1;33m+\u001b[0m\u001b[1;34m'.gdx'\u001b[0m\u001b[1;33m\u001b[0m\u001b[1;33m\u001b[0m\u001b[0m\n\u001b[0;32m    110\u001b[0m                 \u001b[0mself\u001b[0m\u001b[1;33m.\u001b[0m\u001b[0mjob\u001b[0m \u001b[1;33m=\u001b[0m \u001b[0mself\u001b[0m\u001b[1;33m.\u001b[0m\u001b[0mws\u001b[0m\u001b[1;33m.\u001b[0m\u001b[0madd_job_from_file\u001b[0m\u001b[1;33m(\u001b[0m\u001b[0mshock\u001b[0m\u001b[1;33m.\u001b[0m\u001b[0mgms\u001b[0m\u001b[1;33m,\u001b[0m\u001b[1;33m**\u001b[0m\u001b[1;33m{\u001b[0m\u001b[1;34m'checkpoint'\u001b[0m\u001b[1;33m:\u001b[0m \u001b[0mcp\u001b[0m\u001b[1;33m}\u001b[0m\u001b[1;33m)\u001b[0m\u001b[1;33m\u001b[0m\u001b[1;33m\u001b[0m\u001b[0m\n\u001b[1;32m--> 111\u001b[1;33m                 \u001b[0mself\u001b[0m\u001b[1;33m.\u001b[0m\u001b[0mrun\u001b[0m\u001b[1;33m(\u001b[0m\u001b[0mrun_from_job\u001b[0m\u001b[1;33m=\u001b[0m\u001b[1;32mTrue\u001b[0m\u001b[1;33m,\u001b[0m\u001b[0moptions_run\u001b[0m\u001b[1;33m=\u001b[0m\u001b[0moptions_run\u001b[0m\u001b[1;33m)\u001b[0m\u001b[1;33m\u001b[0m\u001b[1;33m\u001b[0m\u001b[0m\n\u001b[0m\u001b[0;32m    112\u001b[0m \u001b[1;33m\u001b[0m\u001b[0m\n\u001b[0;32m    113\u001b[0m         \u001b[1;32mdef\u001b[0m \u001b[0mmodel_instance\u001b[0m\u001b[1;33m(\u001b[0m\u001b[0mself\u001b[0m\u001b[1;33m,\u001b[0m\u001b[0mgams_settings\u001b[0m\u001b[1;33m)\u001b[0m\u001b[1;33m:\u001b[0m\u001b[1;33m\u001b[0m\u001b[1;33m\u001b[0m\u001b[0m\n",
      "\u001b[1;32m~\\Documents\\GitHub\\GamsPythonModels\\py_main\\DB2Gams_l3.py\u001b[0m in \u001b[0;36mrun\u001b[1;34m(self, model, run_from_job, options_add, options_run)\u001b[0m\n\u001b[0;32m     76\u001b[0m                         \u001b[0mself\u001b[0m\u001b[1;33m.\u001b[0m\u001b[0mcompile_collect_file\u001b[0m\u001b[1;33m(\u001b[0m\u001b[1;33m)\u001b[0m\u001b[1;33m\u001b[0m\u001b[1;33m\u001b[0m\u001b[0m\n\u001b[0;32m     77\u001b[0m                         \u001b[0mself\u001b[0m\u001b[1;33m.\u001b[0m\u001b[0madd_job\u001b[0m\u001b[1;33m(\u001b[0m\u001b[0moptions_add\u001b[0m\u001b[1;33m)\u001b[0m\u001b[1;33m\u001b[0m\u001b[1;33m\u001b[0m\u001b[0m\n\u001b[1;32m---> 78\u001b[1;33m                 \u001b[0mself\u001b[0m\u001b[1;33m.\u001b[0m\u001b[0mrun_job\u001b[0m\u001b[1;33m(\u001b[0m\u001b[0moptions_run\u001b[0m\u001b[1;33m)\u001b[0m\u001b[1;33m\u001b[0m\u001b[1;33m\u001b[0m\u001b[0m\n\u001b[0m\u001b[0;32m     79\u001b[0m                 \u001b[0mself\u001b[0m\u001b[1;33m.\u001b[0m\u001b[0mout_db\u001b[0m \u001b[1;33m=\u001b[0m \u001b[0mDataBase\u001b[0m\u001b[1;33m.\u001b[0m\u001b[0mpy_db\u001b[0m\u001b[1;33m(\u001b[0m\u001b[0mdatabase_gdx\u001b[0m\u001b[1;33m=\u001b[0m\u001b[0mself\u001b[0m\u001b[1;33m.\u001b[0m\u001b[0mjob\u001b[0m\u001b[1;33m.\u001b[0m\u001b[0mout_db\u001b[0m\u001b[1;33m,\u001b[0m\u001b[0mdefault_db\u001b[0m\u001b[1;33m=\u001b[0m\u001b[1;34m'db_Gdx'\u001b[0m\u001b[1;33m)\u001b[0m\u001b[1;33m\u001b[0m\u001b[1;33m\u001b[0m\u001b[0m\n\u001b[0;32m     80\u001b[0m                 \u001b[1;32mif\u001b[0m \u001b[0mself\u001b[0m\u001b[1;33m.\u001b[0m\u001b[0msettings\u001b[0m\u001b[1;33m.\u001b[0m\u001b[0msolvestat\u001b[0m \u001b[1;32mis\u001b[0m \u001b[1;32mTrue\u001b[0m\u001b[1;33m:\u001b[0m\u001b[1;33m\u001b[0m\u001b[1;33m\u001b[0m\u001b[0m\n",
      "\u001b[1;32m~\\Documents\\GitHub\\GamsPythonModels\\py_main\\DB2Gams_l3.py\u001b[0m in \u001b[0;36mrun_job\u001b[1;34m(self, options)\u001b[0m\n\u001b[0;32m    153\u001b[0m                 \u001b[0mAdd\u001b[0m \u001b[0moptions\u001b[0m \u001b[0musing\u001b[0m \u001b[0mdict\u001b[0m \u001b[1;32mwith\u001b[0m \u001b[0mkey\u001b[0m \u001b[1;33m=\u001b[0m \u001b[0moption_name\u001b[0m\u001b[1;33m,\u001b[0m \u001b[0mvalue\u001b[0m \u001b[1;33m=\u001b[0m \u001b[0moption\u001b[0m\u001b[1;33m.\u001b[0m\u001b[1;33m\u001b[0m\u001b[1;33m\u001b[0m\u001b[0m\n\u001b[0;32m    154\u001b[0m \t\t\"\"\"\n\u001b[1;32m--> 155\u001b[1;33m                 \u001b[0mself\u001b[0m\u001b[1;33m.\u001b[0m\u001b[0mjob\u001b[0m\u001b[1;33m.\u001b[0m\u001b[0mrun\u001b[0m\u001b[1;33m(\u001b[0m\u001b[0mself\u001b[0m\u001b[1;33m.\u001b[0m\u001b[0mopt\u001b[0m\u001b[1;33m,\u001b[0m\u001b[0mdatabases\u001b[0m\u001b[1;33m=\u001b[0m\u001b[0mlist\u001b[0m\u001b[1;33m(\u001b[0m\u001b[0mself\u001b[0m\u001b[1;33m.\u001b[0m\u001b[0mdbs\u001b[0m\u001b[1;33m.\u001b[0m\u001b[0mvalues\u001b[0m\u001b[1;33m(\u001b[0m\u001b[1;33m)\u001b[0m\u001b[1;33m)\u001b[0m\u001b[1;33m,\u001b[0m\u001b[1;33m**\u001b[0m\u001b[0moptions\u001b[0m\u001b[1;33m)\u001b[0m\u001b[1;33m\u001b[0m\u001b[1;33m\u001b[0m\u001b[0m\n\u001b[0m\u001b[0;32m    156\u001b[0m \u001b[1;33m\u001b[0m\u001b[0m\n\u001b[0;32m    157\u001b[0m         \u001b[1;32mdef\u001b[0m \u001b[0mupdate_placeholders\u001b[0m\u001b[1;33m(\u001b[0m\u001b[0mself\u001b[0m\u001b[1;33m)\u001b[0m\u001b[1;33m:\u001b[0m\u001b[1;33m\u001b[0m\u001b[1;33m\u001b[0m\u001b[0m\n",
      "\u001b[1;32m~\\Anaconda3\\envs\\OldPython\\lib\\site-packages\\gams\\execution.pyd\u001b[0m in \u001b[0;36mgams.execution.GamsJob.run\u001b[1;34m()\u001b[0m\n",
      "\u001b[1;31mGamsExceptionExecution\u001b[0m: GAMS return code not 0 (3), check C:\\Users\\sxj477\\Documents\\GitHub\\GamsPythonModels\\work_folder\\_gams_py_gjo1.lst for more details"
     ]
    }
   ],
   "source": [
    "pm.calibrate(type_='price',kwargs_shock={'n_steps': 10,'gridtype':'pol','phi': 0.5})"
   ]
  },
  {
   "cell_type": "markdown",
   "metadata": {},
   "source": [
    "*If succesfull, store calibrated data:*"
   ]
  },
  {
   "cell_type": "code",
   "execution_count": 11,
   "metadata": {},
   "outputs": [],
   "source": [
    "if pm.model_instances['calib'].modelstat == 16 and pm.model_instances['calib'].solvestat==1:\n",
    "    pm.model_instances['calib'].out_db.db_Gdx.export(pm.data_folder+'\\\\calibrated.gdx')"
   ]
  },
  {
   "cell_type": "markdown",
   "metadata": {},
   "source": [
    "## How to pickle a model instance:"
   ]
  },
  {
   "cell_type": "code",
   "execution_count": 12,
   "metadata": {},
   "outputs": [
    {
     "data": {
      "text/plain": [
       "'C:\\\\Users\\\\sxj477\\\\Documents\\\\GitHub\\\\GamsPythonModels\\\\Examples\\\\PE_P\\\\Example_3'"
      ]
     },
     "execution_count": 12,
     "metadata": {},
     "output_type": "execute_result"
    }
   ],
   "source": [
    "pm.data_folder"
   ]
  },
  {
   "cell_type": "code",
   "execution_count": 13,
   "metadata": {},
   "outputs": [],
   "source": [
    "pm.model_instances['calib'].export(pm.data_folder,'PE_Production_3_calib')"
   ]
  }
 ],
 "metadata": {
  "kernelspec": {
   "display_name": "Python 3",
   "language": "python",
   "name": "python3"
  },
  "language_info": {
   "codemirror_mode": {
    "name": "ipython",
    "version": 3
   },
   "file_extension": ".py",
   "mimetype": "text/x-python",
   "name": "python",
   "nbconvert_exporter": "python",
   "pygments_lexer": "ipython3",
   "version": "3.7.9"
  }
 },
 "nbformat": 4,
 "nbformat_minor": 4
}
