{
 "cells": [
  {
   "cell_type": "code",
   "execution_count": 1,
   "metadata": {},
   "outputs": [
    {
     "name": "stdout",
     "output_type": "stream",
     "text": [
      "The filetest.gdx is still active and was not deleted.\n",
      "The file_gams_py_gdb1.gdx is still active and was not deleted.\n"
     ]
    }
   ],
   "source": [
    "clean_up=True # removes gams-related files in work-folder if true\n",
    "%run StdPackages.ipynb"
   ]
  },
  {
   "cell_type": "markdown",
   "metadata": {},
   "source": [
    "# **Static, partial equilibrium model**\n",
    "### **Production module, example 3:**\n",
    "\n",
    "*Example 3 defines a partial equilibrium model from data, including nesting structure, and calibration targets. The model is as stylized as possible, ignoring investments, trade and taxes.*"
   ]
  },
  {
   "cell_type": "markdown",
   "metadata": {},
   "source": [
    "**NB: The module can run with the cobb-douglas specification ($\\sigma=1$). However, when this is the case, the sum of $\\mu$-parameters should equal 1 (to keep constant returns to scale).**"
   ]
  },
  {
   "cell_type": "markdown",
   "metadata": {},
   "source": [
    "### **1: Read in data, and nesting structure**"
   ]
  },
  {
   "cell_type": "markdown",
   "metadata": {},
   "source": [
    "Read in general equilibrium data:"
   ]
  },
  {
   "cell_type": "code",
   "execution_count": 2,
   "metadata": {},
   "outputs": [],
   "source": [
    "data_folder = os.getcwd()+'\\\\PE_P\\\\Example_3'\n",
    "data = {'Production_v': data_folder+'\\\\Production_v.xlsx', 'Production_p': data_folder+'\\\\Production_p.xlsx'}\n",
    "components = ['domestic']\n",
    "db_GE = ReadData.read_data.main(data,components=components)"
   ]
  },
  {
   "cell_type": "markdown",
   "metadata": {},
   "source": [
    "Extract data on sector 's1' from GE data:"
   ]
  },
  {
   "cell_type": "code",
   "execution_count": 3,
   "metadata": {},
   "outputs": [],
   "source": [
    "s0 = 's1'\n",
    "db_PE = ReadData.PE_from_GE(db_GE,s0)"
   ]
  },
  {
   "cell_type": "markdown",
   "metadata": {},
   "source": [
    "Read in nesting:"
   ]
  },
  {
   "cell_type": "code",
   "execution_count": 4,
   "metadata": {},
   "outputs": [],
   "source": [
    "nt = nesting_tree.nesting_tree(name='test')"
   ]
  },
  {
   "cell_type": "markdown",
   "metadata": {},
   "source": [
    "*Input-part:*"
   ]
  },
  {
   "cell_type": "code",
   "execution_count": 5,
   "metadata": {},
   "outputs": [],
   "source": [
    "nt.add_tree(data_folder+'\\\\nest_s1_in.xlsx',name='s1_in')\n",
    "read_type = {'1dvars': {'sheets': ['sigma'],'names':{}}, 'vars_panel': {'sheets': {'mu': 2},'names': {}}}\n",
    "nt.trees['s1_in'].database.read_from_excel(data_folder+'\\\\nest_s1_in.xlsx',read_type)"
   ]
  },
  {
   "cell_type": "markdown",
   "metadata": {},
   "source": [
    "*Output-split:*"
   ]
  },
  {
   "cell_type": "code",
   "execution_count": 6,
   "metadata": {},
   "outputs": [],
   "source": [
    "nt.add_tree(data_folder+'\\\\nest_s1_out.xlsx',name='s1_out',**{'type_io': 'output', 'type_f': 'CET'})\n",
    "nt.trees['s1_out'].database.read_from_excel(data_folder+'\\\\nest_s1_out.xlsx',read_type)"
   ]
  },
  {
   "cell_type": "markdown",
   "metadata": {},
   "source": [
    "*NB: Note that both Y1,Y2 are used as inputs and outputs. To accomodate for this, we use the feature of temporarily applying new set-names to selected elements of the nesting tree. A dict keeps track of the original names and reverts the names after collecting the nesting trees later on. This feature is called by adding 'temp_namespace' as in the following:*"
   ]
  },
  {
   "cell_type": "code",
   "execution_count": 7,
   "metadata": {},
   "outputs": [],
   "source": [
    "nt.trees['s1_out'].temp_namespace = {'Y1': 'Y1_out', 'Y2': 'Y2_out'}"
   ]
  },
  {
   "cell_type": "markdown",
   "metadata": {},
   "source": [
    "### **2: Set up baseline model**"
   ]
  },
  {
   "cell_type": "markdown",
   "metadata": {},
   "source": [
    "*Compile tree attributes:*"
   ]
  },
  {
   "cell_type": "code",
   "execution_count": 8,
   "metadata": {},
   "outputs": [],
   "source": [
    "nt.run_all()"
   ]
  },
  {
   "cell_type": "markdown",
   "metadata": {},
   "source": [
    "*Note that once the aggregate tree has been compiled, the temporary namespace used to have Y1,Y2 as both inputs and outputs are reversed per default - hence the 'temporary' in temporary namespace. If this is not the case, it should be specified through other means than the 'self.temp_namspace' attribute.*"
   ]
  },
  {
   "cell_type": "markdown",
   "metadata": {},
   "source": [
    "*Initiate production module:*"
   ]
  },
  {
   "cell_type": "code",
   "execution_count": 9,
   "metadata": {},
   "outputs": [],
   "source": [
    "pm = PE.GPM_STA_PE.production(nt)"
   ]
  },
  {
   "cell_type": "code",
   "execution_count": 10,
   "metadata": {},
   "outputs": [],
   "source": [
    "pm.df_write(repo=os.getcwd()+'\\\\V1',export_settings=True)\n",
    "pm.create_model_instance(name='baseline',repo=work_folder)\n",
    "pm.df_run(name='baseline')"
   ]
  }
 ],
 "metadata": {
  "kernelspec": {
   "display_name": "Python 3",
   "language": "python",
   "name": "python3"
  },
  "language_info": {
   "codemirror_mode": {
    "name": "ipython",
    "version": 3
   },
   "file_extension": ".py",
   "mimetype": "text/x-python",
   "name": "python",
   "nbconvert_exporter": "python",
   "pygments_lexer": "ipython3",
   "version": "3.7.4"
  }
 },
 "nbformat": 4,
 "nbformat_minor": 4
}
