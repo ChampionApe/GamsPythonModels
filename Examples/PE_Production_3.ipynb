{
 "cells": [
  {
   "cell_type": "code",
   "execution_count": 1,
   "metadata": {},
   "outputs": [],
   "source": [
    "clean_up=True # removes gams-related files in work-folder if true\n",
    "%run StdPackages.ipynb"
   ]
  },
  {
   "cell_type": "markdown",
   "metadata": {},
   "source": [
    "# **Static, partial equilibrium model**\n",
    "### **Production module, example 3:**\n",
    "\n",
    "*Example 3 defines a partial equilibrium model from data, including nesting structure, and calibration targets. The model is as stylized as possible, ignoring investments, trade and taxes.*"
   ]
  },
  {
   "cell_type": "markdown",
   "metadata": {},
   "source": [
    "**NB: The module can run with the cobb-douglas specification ($\\sigma=1$). However, when this is the case, the sum of $\\mu$-parameters should equal 1 (to keep constant returns to scale).**"
   ]
  },
  {
   "cell_type": "markdown",
   "metadata": {},
   "source": [
    "### **1: Read in data, and nesting structure**"
   ]
  },
  {
   "cell_type": "markdown",
   "metadata": {},
   "source": [
    "Read in general equilibrium data:"
   ]
  },
  {
   "cell_type": "code",
   "execution_count": 2,
   "metadata": {},
   "outputs": [],
   "source": [
    "data_folder = os.getcwd()+'\\\\PE_P\\\\Example_3'\n",
    "data = {'Production_v': data_folder+'\\\\Production_v.xlsx', 'Production_p': data_folder+'\\\\Production_p.xlsx'}\n",
    "components = ['domestic']\n",
    "db_GE = ReadData.read_data.main(data,components=components)"
   ]
  },
  {
   "cell_type": "markdown",
   "metadata": {},
   "source": [
    "Extract data on sector 's1' from GE data:"
   ]
  },
  {
   "cell_type": "code",
   "execution_count": 3,
   "metadata": {},
   "outputs": [],
   "source": [
    "s0 = 's1'\n",
    "db_PE = ReadData.PE_from_GE(db_GE,s0)"
   ]
  },
  {
   "cell_type": "markdown",
   "metadata": {},
   "source": [
    "Read in nesting:"
   ]
  },
  {
   "cell_type": "code",
   "execution_count": 4,
   "metadata": {},
   "outputs": [],
   "source": [
    "nt = nesting_tree.nesting_tree(name='test')"
   ]
  },
  {
   "cell_type": "markdown",
   "metadata": {},
   "source": [
    "*Input-part:*"
   ]
  },
  {
   "cell_type": "code",
   "execution_count": 5,
   "metadata": {},
   "outputs": [],
   "source": [
    "nt.add_tree(data_folder+'\\\\nest_s1_in.xlsx',name='s1_in')\n",
    "read_type = {'1dvars': {'sheets': ['sigma'],'names':{}}, 'vars_panel': {'sheets': {'mu': 2},'names': {}}}\n",
    "nt.trees['s1_in'].database.read_from_excel(data_folder+'\\\\nest_s1_in.xlsx',read_type)"
   ]
  },
  {
   "cell_type": "markdown",
   "metadata": {},
   "source": [
    "*Output-split:*"
   ]
  },
  {
   "cell_type": "code",
   "execution_count": 6,
   "metadata": {},
   "outputs": [],
   "source": [
    "nt.add_tree(data_folder+'\\\\nest_s1_out.xlsx',name='s1_out',**{'type_io': 'output', 'type_f': 'CET'})\n",
    "nt.trees['s1_out'].database.read_from_excel(data_folder+'\\\\nest_s1_out.xlsx',read_type)"
   ]
  },
  {
   "cell_type": "markdown",
   "metadata": {},
   "source": [
    "*NB: Note that both Y1,Y2 are used as inputs and outputs. To accomodate for this, we use the feature of temporarily applying new set-names to selected elements of the nesting tree. A dict keeps track of the original names and reverts the names after collecting the nesting trees later on. This feature is called by adding 'temp_namespace' as in the following:*"
   ]
  },
  {
   "cell_type": "code",
   "execution_count": 7,
   "metadata": {},
   "outputs": [],
   "source": [
    "nt.trees['s1_out'].temp_namespace = {'Y1': 'Y1_out', 'Y2': 'Y2_out'}"
   ]
  },
  {
   "cell_type": "markdown",
   "metadata": {},
   "source": [
    "### **2: Set up baseline model**"
   ]
  },
  {
   "cell_type": "markdown",
   "metadata": {},
   "source": [
    "*Compile tree attributes:*\n",
    "\n",
    "*Note that once the aggregate tree has been compiled, the temporary namespace used to have Y1,Y2 as both inputs and outputs are reversed per default - hence the 'temporary' in temporary namespace. If this is not the case, it should be specified through other means than the 'self.temp_namspace' attribute.*"
   ]
  },
  {
   "cell_type": "code",
   "execution_count": 8,
   "metadata": {},
   "outputs": [],
   "source": [
    "nt.run_all()"
   ]
  },
  {
   "cell_type": "markdown",
   "metadata": {},
   "source": [
    "*Initiate production module with calibration data:*"
   ]
  },
  {
   "cell_type": "code",
   "execution_count": 9,
   "metadata": {},
   "outputs": [],
   "source": [
    "pm = PE.GPM_STA_PE.production(nt,**{'calib_db': db_PE, 'work_folder': work_folder, 'data_folder': data_folder})"
   ]
  },
  {
   "cell_type": "markdown",
   "metadata": {},
   "source": [
    "*Run calibration function. This works as follows:*\n",
    "1. Runs baseline model:\n",
    "    * Initialize variables (if no levels are given, some default values are provided).\n",
    "    * Write gams-code to the folder self.data_folder (specified in the options above).\n",
    "    * Create a model-instance named 'baseline' per default (can be specified with kwargs 'name_base': name). \n",
    "    * Create a checkpoint named 'based 'baseline', and solve model.\n",
    "2. Create and ready calibration model instance:\n",
    "    * Create model-instance named 'calib' per default (can be specified with kwargs 'name_calib': name).\n",
    "    * Endogenize/exogenize relevant variables for calibration: self.calib contains gams-code for endogenizing $mu$-parameters, and exogenizing prices/quantities. Note: Initially, the calibration data for quantities/prices are not applied; this is to check that the endogenizing/exogenizing does not break the 'squareness' of the model.\n",
    "3. Run calibration model:\n",
    "    * The default mode is to calibrate the model in a 'sneaky' manner: The solve_sneakily method creates a database with grids of data between the initial solution, and the data provided in self.calib_db. We then gradually update exogenous variables in 'n_steps' towards the calibration targets.\n",
    "    * Note: When calibrating the standard partial equilibrium model, sneaking up on the solution is not as straightforward: If the production sector has constant returns to scale, it has to hold that the value of inputs equals the value of outputs; calibration of $\\mu$-parameters cannot alter this fact. Thus, making linear grids between the initial solution and the calibration target can result in unbalanced data (that is infeasible to be solved for). To remedy this, the solve_sneakily method allow the user to apply one of three approaches that guarantees balanced data: \n",
    "        * For $type\\_=$'both': Input prices and quantities are linearly spaced. Let $(p0,pT,q0,qT)$ denote the initial and final (last step of the sneaky-solve) price/quantity vectors for outputs in the sector. Let $i$ index the outputs quantities/prices, and $j$ the intermediate step in the sneaky-solve. We then solve:\n",
    "        $$\\begin{align}\n",
    "            \\sum_i (x_jpT(i)+(1-x_j)p0(i))*(x_jqT(i)+(1-x_j)q0(i)) = TC_j,\n",
    "        \\end{align}$$\n",
    "        where $TC_j$ is the total costs in the j'th step (defined by summing over inputs). That is, $x_j$ solved for the weight on the final step $T$. \n",
    "        * For $type\\_=$'price': Input prices and quantities are linearly spaced. Output prices are linearly spaced as well. Quantities are spaced by solving for $x_j$:\n",
    "        $$\\begin{align}\n",
    "            \\sum_i p_j(i)*(x_jqT(i)+(1-x_j)q0(i)) = TC_j.\n",
    "        \\end{align}$$\n",
    "        Thus output quantities are non-linearly spaced to ensure that the step is feasible.\n",
    "        * For $type\\_=$'quant': The reverse case of 'price'; output quantities are linearly spaced, output prices are non-linearly spaced to ensure feasibility."
   ]
  },
  {
   "cell_type": "markdown",
   "metadata": {},
   "source": [
    "*Here we calibrate by taking a loooooot of steps, to make sure to get it right:*"
   ]
  },
  {
   "cell_type": "code",
   "execution_count": null,
   "metadata": {},
   "outputs": [],
   "source": [
    "pm.calibrate(kwargs_shock={'n_steps': 5000,'type_': 'price'})"
   ]
  }
 ],
 "metadata": {
  "kernelspec": {
   "display_name": "Python 3",
   "language": "python",
   "name": "python3"
  },
  "language_info": {
   "codemirror_mode": {
    "name": "ipython",
    "version": 3
   },
   "file_extension": ".py",
   "mimetype": "text/x-python",
   "name": "python",
   "nbconvert_exporter": "python",
   "pygments_lexer": "ipython3",
   "version": "3.7.9"
  }
 },
 "nbformat": 4,
 "nbformat_minor": 4
}
